{
 "cells": [
  {
   "cell_type": "code",
   "execution_count": null,
   "id": "8b6fefde",
   "metadata": {},
   "outputs": [],
   "source": [
    "# import\n",
    "import os\n",
    "import polars as pl\n",
    "import lib.dx as dx\n",
    "import app.shared as shared\n",
    "from datetime import date, datetime, timedelta\n",
    "\n",
    "dx.reload(shared)"
   ]
  },
  {
   "cell_type": "code",
   "execution_count": null,
   "id": "db18d4a2",
   "metadata": {},
   "outputs": [],
   "source": [
    "# default\n",
    "def output_file_default() -> str:\n",
    "  return os.path.join(shared.env.data_dir, \"staged\", \"bravo\", \"fact_sales_actual.parquet\")\n",
    "\n",
    "def from_date_default() -> str:\n",
    "  return \"2021-10-01\"\n",
    "\n",
    "def to_date_default() -> str:\n",
    "  return dx.dt.resolve_datetime_string(\"tomorrow\")\n",
    "\n",
    "def stable_date_default() -> str:\n",
    "  return dx.dt.datetime_to_string(dx.dt.end_of_month(date.today(), offset_days=-55), f\"%Y-%m-%d\")"
   ]
  },
  {
   "cell_type": "code",
   "execution_count": null,
   "id": "26f89caa",
   "metadata": {
    "tags": [
     "parameters"
    ]
   },
   "outputs": [],
   "source": [
    "# params\n",
    "from_date: str = from_date_default()\n",
    "to_date: str = to_date_default()\n",
    "stable_date: str = stable_date_default()"
   ]
  },
  {
   "cell_type": "code",
   "execution_count": null,
   "id": "31039097",
   "metadata": {
    "tags": [
     "return"
    ]
   },
   "outputs": [],
   "source": [
    "# return\n",
    "df_fact_sales_actual: pl.DataFrame"
   ]
  },
  {
   "cell_type": "code",
   "execution_count": null,
   "id": "d2e23077",
   "metadata": {},
   "outputs": [],
   "source": [
    "# transform\n",
    "query_fact_sales_actual = f\"\"\"\n",
    "declare @from_date nvarchar(10) = convert(nchar(10), getdate(), 23);\n",
    "declare @to_date nvarchar(10) = convert(nchar(10), getdate(), 23);\n",
    "--[QUERY]--\n",
    "set nocount on;\n",
    "set ansi_warnings off;\n",
    "execute usp_Vct_BangKeChungTu\n",
    "  @_DocDate1 = @from_date,\n",
    "  @_DocDate2 = @to_date,\n",
    "  @_IsSalesList = 1,\n",
    "  @_RepType = '1',\n",
    "  @_DocCodeLst = 'H2,DV,TL',\n",
    "  @_BranchCode = 'A01',\n",
    "  @_CurrencyCode0 = 'VND'\n",
    "\"\"\"\n",
    "df_fact_sales_actual = dx.ms.read_mssql(uri=shared.env.bravo_uri, query=query_fact_sales_actual, params={\n",
    "  \"from_date\": from_date,\n",
    "  \"to_date\": to_date,\n",
    "})\n",
    "df_fact_sales_actual = df_fact_sales_actual.with_columns(\n",
    "  (pl.col(\"CustomerCode\") + \"_\" + pl.col(\"ItemCatgCode\")).alias(\"ManageCode\"),\n",
    "  (pl.col(\"ItemCode\") + \"_\" + pl.col(\"ItemLotCode\")).alias(\"LotCode\"),\n",
    ")\n",
    "df_fact_sales_actual = df_fact_sales_actual.with_columns(\n",
    "  pl.when(pl.col(\"DocCode\") == \"TL\").then(-pl.col(\"Quantity\")).otherwise(pl.col(\"Quantity\")).alias(\"Quantity\"),\n",
    "  pl.when(pl.col(\"DocCode\") == \"TL\").then(-pl.col(\"TotalAmount\")).otherwise(pl.col(\"TotalAmount\")).alias(\"TotalAmount\"),\n",
    "  pl.when(pl.col(\"DocCode\") == \"TL\").then(-pl.col(\"Amount2\")).otherwise(pl.col(\"Amount2\")).alias(\"Amount2\"),\n",
    "  pl.when(pl.col(\"DocCode\") == \"TL\").then(-pl.col(\"Amount3\")).otherwise(pl.col(\"Amount3\")).alias(\"Amount3\"),\n",
    "  pl.when(pl.col(\"DocCode\") == \"TL\").then(-pl.col(\"Amount\")).otherwise(pl.col(\"Amount\")).alias(\"Amount\"),\n",
    ")\n",
    "\n",
    "selected_cols = {\n",
    "  \"DocDate\": \"doc_date\",\n",
    "  \"DocCode\": \"doc_code\",\n",
    "  \"DocNo\": \"doc_no\",\n",
    "  \"AreaCode\": \"doc_branch_code\",\n",
    "  \"ManageCode\": \"manage_code\",\n",
    "  \"CustomerCode\": \"customer_code\",\n",
    "  \"ItemCatgCode\": \"category_code\",\n",
    "  \"LotCode\": \"lot_code\",\n",
    "  \"ItemCode\": \"item_code\",\n",
    "  \"ItemLotCode\": \"item_lot_code\",\n",
    "  \"DueDate\": \"due_days\",\n",
    "  \"Quantity\": \"quantity\",\n",
    "  \"UnitPriceIncludeVat\": \"invoice_price\",\n",
    "  \"UnitPrice\": \"net_price\",\n",
    "  \"UnitCost\": \"unit_cost\",\n",
    "  \"TotalAmount\": \"invoice_amount\",\n",
    "  \"Amount2\": \"net_amount\",\n",
    "  \"Amount3\": \"tax_amount\",\n",
    "  \"Amount\": \"cost_amount\",\n",
    "  \"IsDirectPayment\": \"is_direct_payment\",\n",
    "  \"IsGiftItem\": \"is_gift_item\",\n",
    "  \"WarehouseCode\": \"warehouse_code\",\n",
    "  \"DocCodePromotion\": \"doc_code_promotion\",\n",
    "  \"DocNo_PromotionHdr\": \"doc_no_promotion\",\n",
    "  \"DocNoPromotion\": \"doc_no_promotion_applied\",\n",
    "  \"LicensePlate\": \"plate_number\",\n",
    "  \"DriverName\": \"driver_name\",\n",
    "  \"EmployeeCodeSO\": \"order_employee_code\",\n",
    "  \"EmployeeNameSO\": \"order_employee_name\",\n",
    "}\n",
    "df_fact_sales_actual = df_fact_sales_actual[list(selected_cols.keys())]\n",
    "df_fact_sales_actual = df_fact_sales_actual.rename(selected_cols)"
   ]
  },
  {
   "cell_type": "code",
   "execution_count": null,
   "id": "e29b38b6",
   "metadata": {},
   "outputs": [],
   "source": [
    "# fill assumed_unit_cost\n",
    "\n",
    "# lấy size cho item\n",
    "query_size = \"\"\"\n",
    "select\n",
    "  item.Code item_code,\n",
    "  isize.Code size_code\n",
    "from B20Item item\n",
    "  left join B20ItemSize isize on item.ItemSizeCode = isize.Code\n",
    "where item.IsGroup = 0\n",
    "\"\"\"\n",
    "df_size = dx.ms.read_mssql(uri=shared.env.bravo_uri, query=query_size, params=None)\n",
    "\n",
    "df_fact_sales_actual = df_fact_sales_actual.join(\n",
    "  df_size,\n",
    "  on=[\"item_code\"],\n",
    "  how=\"left\",\n",
    "  suffix=\"_\",\n",
    "  coalesce=True,\n",
    ")\n",
    "\n",
    "# giá vốn gần nhất cả item và size\n",
    "df_unit_cost = df_fact_sales_actual.filter(\n",
    "  (pl.col(\"doc_date\") < dx.dt.string_to_datetime(stable_date, \"%Y-%m-%d\"))\n",
    "  & (pl.col(\"doc_code\") == \"H2\")\n",
    "  & (pl.col(\"doc_branch_code\").is_in([\"A01\", \"A02\", \"A03\", \"A04\"]))\n",
    ").select(\n",
    "  [\"doc_date\", \"item_code\", \"size_code\", \"unit_cost\"]\n",
    ").sort(\n",
    "  by=[\"doc_date\"],\n",
    "  descending=[True],\n",
    ").unique(\n",
    "  subset=[\"item_code\"],\n",
    "  keep=\"first\",\n",
    "  maintain_order=False,\n",
    ")\n",
    "\n",
    "# giá vốn theo item\n",
    "df_item_costs = df_unit_cost.unique(\n",
    "  subset=[\"item_code\"],\n",
    "  keep=\"first\",\n",
    "  maintain_order=False,\n",
    ").select(\n",
    "  [\"item_code\", \"unit_cost\"]\n",
    ").rename({\n",
    "  \"unit_cost\": \"item_unit_cost\",\n",
    "})\n",
    "\n",
    "# giá vốn theo size\n",
    "df_size_costs = df_unit_cost.unique(\n",
    "  subset=[\"size_code\"],\n",
    "  keep=\"first\",\n",
    "  maintain_order=False,\n",
    ").select(\n",
    "  [\"size_code\", \"unit_cost\"]\n",
    ").rename({\n",
    "  \"unit_cost\": \"size_unit_cost\"\n",
    "})\n",
    "\n",
    "# join để thêm cột assumed_unit_cost\n",
    "df_fact_sales_actual = df_fact_sales_actual.join(\n",
    "  df_item_costs,\n",
    "  on=[\"item_code\"],\n",
    "  how=\"left\",\n",
    "  suffix=\"_\",\n",
    "  coalesce=True,\n",
    ")\n",
    "df_fact_sales_actual = df_fact_sales_actual.join(\n",
    "  df_size_costs,\n",
    "  on=[\"size_code\"],\n",
    "  how=\"left\",\n",
    "  suffix=\"_\",\n",
    "  coalesce=True,\n",
    ")\n",
    "df_fact_sales_actual = df_fact_sales_actual.with_columns(\n",
    "  pl.when(pl.col(\"doc_date\") <= pl.lit(stable_date).cast(pl.Date)).then(pl.col(\"unit_cost\"))\n",
    "    .when(pl.col(\"item_unit_cost\") > 0).then(pl.col(\"item_unit_cost\"))\n",
    "    .when(pl.col(\"size_unit_cost\") > 0).then(pl.col(\"size_unit_cost\"))\n",
    "    .otherwise(0.8 * pl.col(\"net_price\"))\n",
    "    .alias(\"assumed_unit_cost\")\n",
    ")\n",
    "df_fact_sales_actual = df_fact_sales_actual.drop([\"size_code\", \"item_unit_cost\", \"size_unit_cost\"])"
   ]
  },
  {
   "cell_type": "code",
   "execution_count": null,
   "id": "aa60a5a2",
   "metadata": {
    "tags": [
     "ignore"
    ]
   },
   "outputs": [],
   "source": [
    "# view\n",
    "df_fact_sales_actual.head(1)"
   ]
  },
  {
   "cell_type": "code",
   "execution_count": null,
   "id": "7079a0c5",
   "metadata": {
    "tags": [
     "ignore"
    ]
   },
   "outputs": [],
   "source": [
    "# save\n",
    "dx.df.write_data_file(df=df_fact_sales_actual, data_file=output_file_default())"
   ]
  }
 ],
 "metadata": {
  "kernelspec": {
   "display_name": "Python 3",
   "language": "python",
   "name": "python3"
  },
  "language_info": {
   "codemirror_mode": {
    "name": "ipython",
    "version": 3
   },
   "file_extension": ".py",
   "mimetype": "text/x-python",
   "name": "python",
   "nbconvert_exporter": "python",
   "pygments_lexer": "ipython3",
   "version": "3.11.9"
  }
 },
 "nbformat": 4,
 "nbformat_minor": 5
}
