{
 "cells": [
  {
   "cell_type": "code",
   "execution_count": null,
   "id": "8b6fefde",
   "metadata": {},
   "outputs": [],
   "source": [
    "# import\n",
    "import os\n",
    "import polars as pl\n",
    "import lib.dx as dx\n",
    "import app.shared as shared\n",
    "from datetime import date, datetime, timedelta\n",
    "\n",
    "dx.reload(shared)"
   ]
  },
  {
   "cell_type": "code",
   "execution_count": null,
   "id": "db18d4a2",
   "metadata": {},
   "outputs": [],
   "source": [
    "# default\n",
    "def output_file_default() -> str:\n",
    "  return os.path.join(shared.env.data_dir, \"staged\", \"bravo\", \"fact_inventory_item.parquet\")\n",
    "\n",
    "def view_date_default() -> str:\n",
    "  return dx.dt.resolve_datetime_string(\"tomorrow\")"
   ]
  },
  {
   "cell_type": "code",
   "execution_count": null,
   "id": "26f89caa",
   "metadata": {
    "tags": [
     "parameters"
    ]
   },
   "outputs": [],
   "source": [
    "# params\n",
    "view_date: str = view_date_default()"
   ]
  },
  {
   "cell_type": "code",
   "execution_count": null,
   "id": "31039097",
   "metadata": {
    "tags": [
     "return"
    ]
   },
   "outputs": [],
   "source": [
    "# return\n",
    "df_fact_inventory_item: pl.DataFrame"
   ]
  },
  {
   "cell_type": "code",
   "execution_count": null,
   "id": "d2e23077",
   "metadata": {},
   "outputs": [],
   "source": [
    "# transform\n",
    "query_fact_inventory_item = \"\"\"\n",
    "declare @view_date nvarchar(10) = convert(nchar(10), getdate(), 23);\n",
    "--[QUERY]--\n",
    "set nocount on;\n",
    "set ansi_warnings off;\n",
    "execute usp_Vcd_BaoCaoTonKho\n",
    "  @_DocDate2 = @view_date,\n",
    "  @_BranchCode = 'A01',\n",
    "  @_GroupByListField = 'WarehouseId'\n",
    "\"\"\"\n",
    "df_fact_inventory_item = dx.ms.read_mssql(uri=shared.env.bravo_uri, query=query_fact_inventory_item, params={\n",
    "  \"view_date\": view_date,\n",
    "})\n",
    "df_fact_inventory_item = df_fact_inventory_item.with_columns(\n",
    "  pl.lit(view_date).cast(pl.Date).alias(\"ViewDate\"),\n",
    "  pl.col(\"WarehouseName\").str.split(\" - \").list.get(0).alias(\"WarehouseCode\"),\n",
    ")\n",
    "df_fact_inventory_item = dx.df.rename_columns(df_fact_inventory_item, selected_cols={\n",
    "  \"ViewDate\": \"view_date\",\n",
    "  \"WarehouseCode\": \"warehouse_code\",\n",
    "  \"ItemCode\": \"item_code\",\n",
    "  \"UnitCost\": \"unit_cost\",\n",
    "  \"CloseInventory\": \"quantity\",\n",
    "  \"CloseAmount\": \"amount\",\n",
    "})"
   ]
  },
  {
   "cell_type": "code",
   "execution_count": null,
   "id": "5918820b",
   "metadata": {
    "tags": [
     "ignore"
    ]
   },
   "outputs": [],
   "source": [
    "# view\n",
    "df_fact_inventory_item.head(1)"
   ]
  },
  {
   "cell_type": "code",
   "execution_count": null,
   "id": "7079a0c5",
   "metadata": {
    "tags": [
     "ignore"
    ]
   },
   "outputs": [],
   "source": [
    "# save\n",
    "dx.df.write_data_file(df=df_fact_inventory_item, data_file=output_file_default())"
   ]
  }
 ],
 "metadata": {
  "kernelspec": {
   "display_name": "Python 3",
   "language": "python",
   "name": "python3"
  },
  "language_info": {
   "codemirror_mode": {
    "name": "ipython",
    "version": 3
   },
   "file_extension": ".py",
   "mimetype": "text/x-python",
   "name": "python",
   "nbconvert_exporter": "python",
   "pygments_lexer": "ipython3",
   "version": "3.11.9"
  }
 },
 "nbformat": 4,
 "nbformat_minor": 5
}
