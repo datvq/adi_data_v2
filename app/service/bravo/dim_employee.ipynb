{
 "cells": [
  {
   "cell_type": "code",
   "execution_count": null,
   "id": "5b9f6f9e",
   "metadata": {},
   "outputs": [],
   "source": [
    "# import\n",
    "import os\n",
    "import polars as pl\n",
    "import lib.dx as dx\n",
    "import app.shared as shared\n",
    "from datetime import date, datetime, timedelta\n",
    "\n",
    "dx.reload(shared)"
   ]
  },
  {
   "cell_type": "code",
   "execution_count": null,
   "id": "4f3a4c82",
   "metadata": {},
   "outputs": [],
   "source": [
    "# default\n",
    "def output_file_default() -> str:\n",
    "  return os.path.join(shared.env.data_dir, \"staged\", \"bravo\", \"dim\", \"dim_employee\", \"v1.parquet\")\n",
    "\n",
    "def view_date_default() -> str:\n",
    "  return dx.dt.resolve_datetime_string(\"tomorrow\")"
   ]
  },
  {
   "cell_type": "code",
   "execution_count": null,
   "id": "b6b5c701",
   "metadata": {
    "tags": [
     "parameters"
    ]
   },
   "outputs": [],
   "source": [
    "# params\n",
    "view_date: str = view_date_default()"
   ]
  },
  {
   "cell_type": "code",
   "execution_count": null,
   "id": "27744522",
   "metadata": {
    "tags": [
     "return"
    ]
   },
   "outputs": [],
   "source": [
    "# return\n",
    "df_dim_employee: pl.DataFrame"
   ]
  },
  {
   "cell_type": "code",
   "execution_count": null,
   "id": "e9c94664",
   "metadata": {},
   "outputs": [],
   "source": [
    "# transform\n",
    "query_dim_employee = \"\"\"\n",
    "declare @view_date nvarchar(10) = convert(nchar(10), getdate(), 23);\n",
    "--[QUERY]--\n",
    "with es as (\n",
    "  select\n",
    "    es.EmployeeCode saleman_code,\n",
    "    es.EmpSuperiorCode superior_code,\n",
    "    es.StartDate assigned_date\n",
    "  from (\n",
    "    select\n",
    "      EmployeeCode,\n",
    "      EmpSuperiorCode,\n",
    "      StartDate,\n",
    "      row_number() over(\n",
    "        partition by\n",
    "          EmployeeCode\n",
    "        order by StartDate desc\n",
    "      ) top_n\n",
    "    from B20EmployeeSuperior\n",
    "    where StartDate <= @view_date\n",
    "  ) es\n",
    "  where es.top_n = 1\n",
    ")\n",
    "select\n",
    "  employee.IsActive is_active,\n",
    "  superior_branch.AreaCode superior_branch_code,\n",
    "  superior_branch.AreaName2 superior_branch_name,\n",
    "  superior_department.Code superior_department_code,\n",
    "  superior_department.Name superior_department_name,\n",
    "  vsuperior.JobTitleName0 superior_job_title_name,\n",
    "  superior.Code superior_code,\n",
    "  superior.Name superior_name,\n",
    "  branch.AreaCode employee_branch_code,\n",
    "  branch.AreaName2 employee_branch_name,\n",
    "  department.Code employee_department_code,\n",
    "  department.Name employee_department_name,\n",
    "  vemployee.JobTitleName0 employee_job_title_name,\n",
    "  employee.Code employee_code,\n",
    "  employee.Name employee_name,\n",
    "  employee.Email private_email,\n",
    "  employee.Email2 company_email,\n",
    "  employee.Gender gender,\n",
    "  employee.IsHana is_hana,\n",
    "  employee.WifeInCompany wife_in_company,\n",
    "  employee.BirthDate birth_date,\n",
    "  employee.Tel phone_number,\n",
    "  employee.PersonalTaxCode personal_tax_code,\n",
    "  employee.PersonalTaxCodeSupplier personal_tax_code_supplier,\n",
    "  employee.IdCardNo id_card_number,\n",
    "  employee.IdCardDate id_card_date,\n",
    "  employee.IdCardIssuePlace id_card_issue_place,\n",
    "  employee.GraduteYear gradute_year,\n",
    "  employee.GraduteSchool gradute_school,\n",
    "  employee.Ethnicity ethnicity,\n",
    "  employee.Religion religion,\n",
    "  employee.Nationality nationality,\n",
    "  employee.HomeCountry home_country,\n",
    "  employee.Address address,\n",
    "  employee.Domicile domicile,\n",
    "  employee.BankName bank_name,\n",
    "  employee.BankAccount bank_account,\n",
    "  employee.TempStartDate temp_start_date,\n",
    "  employee.FirstWorkingDate first_working_date,\n",
    "  employee.ResignDate resign_date,\n",
    "  employee.InsuranceNo insurance_no,\n",
    "  employee.LicensePlate license_plate,\n",
    "  employee.DriveLicense drive_license,\n",
    "  employee.DriveLicenseDate drive_license_date,\n",
    "  employee.DriveLicensePlace drive_license_place,\n",
    "  dateadd(hour, 7, employee.CreatedAt) created_at,\n",
    "  dateadd(hour, 7, (select max(d) from (values\n",
    "    (employee.ModifiedAt),\n",
    "    (branch.ModifiedAt)\n",
    "  ) all_dates(d))) modified_at\n",
    "from B20Employee employee\n",
    "  left join B20Area branch on employee.AreaCode = branch.AreaCode\n",
    "  left join B20Dept department on employee.DeptId = department.Id\n",
    "  left join es on employee.Code = es.saleman_code\n",
    "  left join B20Employee superior on es.superior_code = superior.Code\n",
    "  left join B20Area superior_branch on superior.AreaCode = superior_branch.AreaCode\n",
    "  left join B20Dept superior_department on superior.DeptId = superior_department.Id\n",
    "  left join vB20Employee vemployee on employee.Code = vemployee.Code\n",
    "  left join vB20Employee vsuperior on superior.Code = vsuperior.Code\n",
    "where employee.IsGroup = 0\n",
    "\"\"\"\n",
    "df_dim_employee = dx.ms.read_mssql(uri=shared.env.bravo_uri, query=query_dim_employee, params={\n",
    "  \"view_date\": view_date,\n",
    "})"
   ]
  },
  {
   "cell_type": "code",
   "execution_count": null,
   "id": "0a64159b",
   "metadata": {
    "tags": [
     "ignore"
    ]
   },
   "outputs": [],
   "source": [
    "# view\n",
    "df_dim_employee.head(1)"
   ]
  },
  {
   "cell_type": "code",
   "execution_count": null,
   "id": "582d285e",
   "metadata": {
    "tags": [
     "ignore"
    ]
   },
   "outputs": [],
   "source": [
    "# save\n",
    "dx.df.write_data_file(df=df_dim_employee, data_file=output_file_default())"
   ]
  }
 ],
 "metadata": {
  "kernelspec": {
   "display_name": "Python 3",
   "language": "python",
   "name": "python3"
  },
  "language_info": {
   "codemirror_mode": {
    "name": "ipython",
    "version": 3
   },
   "file_extension": ".py",
   "mimetype": "text/x-python",
   "name": "python",
   "nbconvert_exporter": "python",
   "pygments_lexer": "ipython3",
   "version": "3.11.9"
  }
 },
 "nbformat": 4,
 "nbformat_minor": 5
}
