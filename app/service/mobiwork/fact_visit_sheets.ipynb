{
 "cells": [
  {
   "cell_type": "code",
   "execution_count": null,
   "id": "a35b2201",
   "metadata": {},
   "outputs": [],
   "source": [
    "# import\n",
    "import os\n",
    "import calendar\n",
    "import requests\n",
    "import polars as pl\n",
    "import lib.dx as dx\n",
    "import lib.adi as adi\n",
    "import app.shared as shared\n",
    "from datetime import date, datetime, timedelta\n",
    "\n",
    "dx.reload(adi, shared)"
   ]
  },
  {
   "cell_type": "code",
   "execution_count": null,
   "id": "bca9a0aa",
   "metadata": {},
   "outputs": [],
   "source": [
    "# default\n",
    "def output_file_default() -> str:\n",
    "  return os.path.join(shared.env.data_dir, \"staged\", \"mobiwork\", \"fact_visit_sheets.parquet\")\n",
    "\n",
    "def yymm_default() -> str:\n",
    "  return dx.dt.datetime_to_string(dx.dt.string_to_datetime(\"end_of_last_month\", f\"%Y-%m-%d\"), \"%y%m\")"
   ]
  },
  {
   "cell_type": "code",
   "execution_count": null,
   "id": "7b96e9d3",
   "metadata": {
    "tags": [
     "parameters"
    ]
   },
   "outputs": [],
   "source": [
    "# params\n",
    "yymm: str = yymm_default()"
   ]
  },
  {
   "cell_type": "code",
   "execution_count": null,
   "id": "3fd546c8",
   "metadata": {
    "tags": [
     "return"
    ]
   },
   "outputs": [],
   "source": [
    "# return\n",
    "pl_fact_visit_sheets: pl.DataFrame"
   ]
  },
  {
   "cell_type": "code",
   "execution_count": null,
   "id": "f16612fe",
   "metadata": {},
   "outputs": [],
   "source": [
    "# fact_visit_plan\n",
    "year = 2000 + int(yymm[:2])\n",
    "month = int(yymm[2:])\n",
    "eom = calendar.monthrange(year, month)[1]\n",
    "url = f\"\"\"{\n",
    "  shared.env.mobiwork_visit_base_url\n",
    "}/Visitsheets?orgid=57bea55c94dec72c0c5b4e0b&year={\n",
    "  str(year)\n",
    "}&month={\n",
    "  str(month).zfill(2)\n",
    "}&assignTo=&fromday=01&today={\n",
    "  str(eom).zfill(2)\n",
    "}&disIn=50&disOut=50\"\"\"\n",
    "header = adi.mobiwork.create_mobiwork_header(\n",
    "  email=shared.env.mobiwork_email,\n",
    "  password=shared.env.mobiwork_password,\n",
    "  base_url=shared.env.mobiwork_login_base_url,\n",
    ")\n",
    "res: requests.models.Response = requests.get(url=url, headers=header)\n",
    "data: dict = res.json()\n",
    "\n",
    "result = data.get(\"result\", [])\n",
    "rows: list[dict] = []\n",
    "for branch_data in result:\n",
    "  branch_data: dict\n",
    "  branch_name_joined: str = branch_data.get(\"name\", None)\n",
    "  branh_parts = branch_name_joined.split(\"-\")\n",
    "  branch_code = branh_parts[0]\n",
    "  branch_name = branh_parts[1]\n",
    "  for employee_data in branch_data.get(\"employee\", []):\n",
    "    employee_data: dict\n",
    "    employee_email = employee_data.get(\"email\", None)\n",
    "    employee_name = employee_data.get(\"name\", None)\n",
    "    for d in range(1, 32):\n",
    "      day = str(d)\n",
    "      day_data = employee_data.get(day, None)\n",
    "      if day_data is not None:\n",
    "        for checkin_data in day_data:\n",
    "          checkin_data: dict\n",
    "          customer_code: str = None\n",
    "          if checkin_data.get(\"discode\", None) not in [\"\", None]:\n",
    "            customer_code = checkin_data.get(\"discode\")\n",
    "\n",
    "          customer_name: str = None\n",
    "          if checkin_data.get(\"discode\", None) not in [\"\", None]:\n",
    "            customer_name = checkin_data.get(\"distitle\")\n",
    "\n",
    "          checkin_name: str = None\n",
    "          if checkin_data.get(\"discode\", None)not in [\"\", None]:\n",
    "            checkin_name = \"Checkin khách hàng\"\n",
    "          else:\n",
    "            checkin_name = checkin_data.get(\"distitle\")\n",
    "\n",
    "          image = None if checkin_data.get(\"photo\", None) in [[], None] else checkin_data.get(\"photo\")[0]\n",
    "          checkin_image = None if checkin_data.get(\"photo_checkIn\", None) in [[], None] else checkin_data.get(\"photo_checkIn\")[0]\n",
    "          checkout_image = None if checkin_data.get(\"photo_checkOut\", None) in [[], None] else checkin_data.get(\"photo_checkOut\")[0]\n",
    "          try:\n",
    "            row: dict = {\n",
    "              \"yymm\": yymm,\n",
    "              \"year\": year,\n",
    "              \"month\": month,\n",
    "              \"checkin_uuid\": checkin_data.get(\"_id\", None),\n",
    "              \"working_date\": datetime.strptime(f\"{year}-{str(month).zfill(2)}-{str(day).zfill(2)}\", f\"%Y-%m-%d\").date(),\n",
    "              \"branch_code\": branch_code,\n",
    "              \"branch_name\": branch_name,\n",
    "              \"employee_email\": employee_email,\n",
    "              \"employee_name\": employee_name,\n",
    "              \"device\": checkin_data.get(\"device\", None),\n",
    "              \"checkin_code\": checkin_data.get(\"type\", None),\n",
    "              \"checkin_name\": checkin_name,\n",
    "              \"checkin_time\": checkin_data.get(\"hms\", None),\n",
    "              \"checkout_time\": checkin_data.get(\"hmso\", None),\n",
    "              \"sync_time\": checkin_data.get(\"timeSyn\", None),\n",
    "              \"valid_sync_time\": checkin_data.get(\"validTimeSyn\", None),\n",
    "              \"checkin_lat\": checkin_data.get(\"lat\", None),\n",
    "              \"checkin_long\": checkin_data.get(\"long\", None),\n",
    "              \"checkin_address\": checkin_data.get(\"address\", None),\n",
    "              \"customer_code\": customer_code,\n",
    "              \"customer_name\": customer_name,\n",
    "              \"direction\": checkin_data.get(\"direction\", {}).get(\"distance\", None),\n",
    "              \"image\": image,\n",
    "              \"checkin_image\": checkin_image,\n",
    "              \"checkout_image\": checkout_image,\n",
    "            }\n",
    "            rows.append(row)\n",
    "          except:\n",
    "            print(row)\n",
    "pl_fact_visit_sheets = pl.from_dicts(rows, infer_schema_length=1000)"
   ]
  },
  {
   "cell_type": "code",
   "execution_count": null,
   "id": "8fd0556e",
   "metadata": {
    "tags": [
     "ignore"
    ]
   },
   "outputs": [],
   "source": [
    "# view\n",
    "pl_fact_visit_sheets.head(1)"
   ]
  },
  {
   "cell_type": "code",
   "execution_count": null,
   "id": "80f37455",
   "metadata": {
    "tags": [
     "ignore"
    ]
   },
   "outputs": [],
   "source": [
    "# save\n",
    "dx.df.write_data_file(df=pl_fact_visit_sheets, data_file=output_file_default())"
   ]
  }
 ],
 "metadata": {
  "kernelspec": {
   "display_name": "Python 3",
   "language": "python",
   "name": "python3"
  },
  "language_info": {
   "codemirror_mode": {
    "name": "ipython",
    "version": 3
   },
   "file_extension": ".py",
   "mimetype": "text/x-python",
   "name": "python",
   "nbconvert_exporter": "python",
   "pygments_lexer": "ipython3",
   "version": "3.11.9"
  }
 },
 "nbformat": 4,
 "nbformat_minor": 5
}
