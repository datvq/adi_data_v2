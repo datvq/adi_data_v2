{
 "cells": [
  {
   "cell_type": "code",
   "execution_count": null,
   "id": "8b6fefde",
   "metadata": {},
   "outputs": [],
   "source": [
    "# import\n",
    "import os\n",
    "import polars as pl\n",
    "import lib.dx as dx\n",
    "import app.shared as shared\n",
    "from datetime import date, datetime, timedelta\n",
    "\n",
    "dx.reload(shared)"
   ]
  },
  {
   "cell_type": "code",
   "execution_count": null,
   "id": "db18d4a2",
   "metadata": {},
   "outputs": [],
   "source": [
    "# default\n",
    "def output_file_default() -> str:\n",
    "  return os.path.join(shared.env.data_dir, \"staged\", \"bravo\", \"fact\", \"fact_import_contract\", \"v1.parquet\")\n",
    "\n",
    "def from_date_default() -> str:\n",
    "  return dx.dt.resolve_datetime_string(\"begin_of_this_fiscal_year\")\n",
    "\n",
    "def to_date_default() -> str:\n",
    "  return dx.dt.resolve_datetime_string(\"tomorrow\")"
   ]
  },
  {
   "cell_type": "code",
   "execution_count": null,
   "id": "26f89caa",
   "metadata": {
    "tags": [
     "parameters"
    ]
   },
   "outputs": [],
   "source": [
    "# params\n",
    "from_date: str = from_date_default()\n",
    "to_date: str = to_date_default()"
   ]
  },
  {
   "cell_type": "code",
   "execution_count": null,
   "id": "31039097",
   "metadata": {
    "tags": [
     "return"
    ]
   },
   "outputs": [],
   "source": [
    "# return\n",
    "df_fact_import_contract: pl.DataFrame"
   ]
  },
  {
   "cell_type": "code",
   "execution_count": null,
   "id": "d2e23077",
   "metadata": {},
   "outputs": [],
   "source": [
    "# transform\n",
    "query_fact_import_contract = \"\"\"\n",
    "declare @from_date nvarchar(10) = '2021-01-01';\n",
    "declare @to_date nvarchar(10) = convert(nchar(10), getdate(), 23);\n",
    "--[QUERY]--\n",
    "select\n",
    "  header.Closed closed,\n",
    "  header.DocDate doc_date,\n",
    "  header.DocCode doc_code,\n",
    "  header.DocNo doc_no,\n",
    "  header.Description description,\n",
    "  header.CurrencyCode currency_code,\n",
    "  header.ExchangeRate exchange_rate,\n",
    "  header.CustomerId customer_id,\n",
    "  header.DepositDate deposit_date,\n",
    "  header.FinishedDate dinished_date,\n",
    "  header.HandoverDate handover_date,\n",
    "  header.DeptOfDays due_days,\n",
    "  detail.ItemId item_id,\n",
    "  detail.Unit unit,\n",
    "  detail.Quantity9 quantity,\n",
    "  detail.OriginalUnitCost origin_unit_cost,\n",
    "  detail.OriginalAmount origin_total_cost,\n",
    "  header.PaymentTermsCode payment_method_code,\n",
    "  detail.UnitCost unit_cost,\n",
    "  detail.Amount3 tax_amount,\n",
    "  detail.Amount9 total_cost,\n",
    "  detail.TaxCode tax_code,\n",
    "  detail.Remark detail_note\n",
    "from B30BizDocDetailPO detail\n",
    "  left join B30BizDoc header on detail.BizDocId = header.BizDocId\n",
    "where header.IsActive = 1 and header.DocStatus in (3, 4) and header.BranchCode = 'A01'\n",
    "  and header.DocCode = 'PO' and header.ContractType = 3\n",
    "  and header.DocDate between @from_date and @to_date\n",
    "\"\"\"\n",
    "df_fact_import_contract = dx.ms.read_mssql(uri=shared.env.bravo_uri, query=query_fact_import_contract, params={\n",
    "  \"from_date\": from_date,\n",
    "  \"to_date\": to_date,\n",
    "})"
   ]
  },
  {
   "cell_type": "code",
   "execution_count": null,
   "id": "5918820b",
   "metadata": {
    "tags": [
     "ignore"
    ]
   },
   "outputs": [],
   "source": [
    "# view\n",
    "df_fact_import_contract.head(1)"
   ]
  },
  {
   "cell_type": "code",
   "execution_count": null,
   "id": "7079a0c5",
   "metadata": {
    "tags": [
     "ignore"
    ]
   },
   "outputs": [],
   "source": [
    "# save\n",
    "dx.df.write_data_file(df=df_fact_import_contract, data_file=output_file_default())"
   ]
  }
 ],
 "metadata": {
  "kernelspec": {
   "display_name": "Python 3",
   "language": "python",
   "name": "python3"
  },
  "language_info": {
   "codemirror_mode": {
    "name": "ipython",
    "version": 3
   },
   "file_extension": ".py",
   "mimetype": "text/x-python",
   "name": "python",
   "nbconvert_exporter": "python",
   "pygments_lexer": "ipython3",
   "version": "3.11.9"
  }
 },
 "nbformat": 4,
 "nbformat_minor": 5
}
