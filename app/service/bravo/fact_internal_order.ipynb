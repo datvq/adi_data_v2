{
 "cells": [
  {
   "cell_type": "code",
   "execution_count": null,
   "id": "8b6fefde",
   "metadata": {},
   "outputs": [],
   "source": [
    "# import\n",
    "import os\n",
    "import polars as pl\n",
    "import lib.dx as dx\n",
    "import app.shared as shared\n",
    "from datetime import date, datetime, timedelta\n",
    "\n",
    "dx.reload(shared)"
   ]
  },
  {
   "cell_type": "code",
   "execution_count": null,
   "id": "db18d4a2",
   "metadata": {},
   "outputs": [],
   "source": [
    "# default\n",
    "def output_file_default() -> str:\n",
    "  return os.path.join(shared.env.data_dir, \"staged\", \"bravo\", \"fact_internal_order.parquet\")\n",
    "\n",
    "def view_date_default() -> str:\n",
    "  return dx.dt.resolve_datetime_string(\"tomorrow\")"
   ]
  },
  {
   "cell_type": "code",
   "execution_count": null,
   "id": "26f89caa",
   "metadata": {
    "tags": [
     "parameters"
    ]
   },
   "outputs": [],
   "source": [
    "# params\n",
    "view_date: str = view_date_default()"
   ]
  },
  {
   "cell_type": "code",
   "execution_count": null,
   "id": "31039097",
   "metadata": {
    "tags": [
     "return"
    ]
   },
   "outputs": [],
   "source": [
    "# return\n",
    "df_fact_internal_order: pl.DataFrame"
   ]
  },
  {
   "cell_type": "code",
   "execution_count": null,
   "id": "d2e23077",
   "metadata": {},
   "outputs": [],
   "source": [
    "# transform\n",
    "query_fact_internal_order = \"\"\"\n",
    "declare @view_date nvarchar(10) = convert(nchar(10), getdate(), 23);\n",
    "--[QUERY]--\n",
    "set nocount on;\n",
    "set ansi_warnings off;\n",
    "\n",
    "/* drop temp talbe */\n",
    "if object_id(N'tempdb..#tmp_internal_order') is not null drop table #tmp_internal_order\n",
    "\n",
    "/* create temp table */\n",
    "create table #tmp_internal_order\n",
    "(\n",
    "  DocNo nvarchar(max),\n",
    "  DocDate date,\n",
    "  ItemId int,\n",
    "  ItemCode nvarchar(max),\n",
    "  ItemName nvarchar(max),\n",
    "  Quantity float,\n",
    "  Description nvarchar(max),\n",
    "  Stt_IP nvarchar(max),\n",
    "  Quantity_PN float,\n",
    "  EstimatedTimeDelivery date,\n",
    "  Unit nvarchar(max),\n",
    "  AreaCode nvarchar(max),\n",
    "  Id_IP int,\n",
    "  Dif float,\n",
    "  _Group nvarchar(max),\n",
    "  Quantity_GC float,\n",
    "  Quantity_SX float,\n",
    "  Quantity_KD float,\n",
    "  Quantity_ID float,\n",
    "  DocNo_GC nvarchar(max),\n",
    "  DocNo_SX nvarchar(max),\n",
    "  DocNo_KD nvarchar(max),\n",
    "  DocNo_ID nvarchar(max),\n",
    "  ManufacturingAreacode nvarchar(max),\n",
    "  UnitKG nvarchar(max),\n",
    "  QuantityKG float,\n",
    "  QuantityKG_PN float,\n",
    "  ConvertRate float,\n",
    "  Closed bit,\n",
    "  DescriptionDetail nvarchar(max),\n",
    "  ItemCatgCode nvarchar(max),\n",
    "  DiffKG float\n",
    ")\n",
    "\n",
    "/* fill data to temp table */\n",
    "insert into #tmp_internal_order\n",
    "execute usp_Tracking_IP\n",
    "  @_DocDate1 = '2021-01-01',\n",
    "  @_DocDate2 = @view_date,\n",
    "  @_BranchCode = 'A01',\n",
    "  @_Closed = 0\n",
    "\n",
    "/* select data from temp table */\n",
    "-- select value from openjson((\n",
    "select\n",
    "  tmp.Closed closed,\n",
    "  tmp.DocDate doc_date,\n",
    "  tmp.DocNo doc_no,\n",
    "  tmp.AreaCode branch_code,\n",
    "  tmp.ItemCatgCode category_code,\n",
    "  tmp.Quantity quantity_order,\n",
    "  tmp.Quantity_PN quantity_done,\n",
    "  tmp.Dif quantity_remain,\n",
    "  tmp.EstimatedTimeDelivery estimated_time_delivery,\n",
    "  tmp.DescriptionDetail description_detail,\n",
    "  tmp.Quantity_GC quantity_processing,\n",
    "  tmp.DocNo_GC doc_no_processing,\n",
    "  tmp.Quantity_SX quantity_manufacturing,\n",
    "  tmp.DocNo_SX doc_no_manufacturing,\n",
    "  tmp.Quantity_KD quantity_forwarding,\n",
    "  tmp.DocNo_KD doc_no_forwarding,\n",
    "  tmp.Quantity_ID quantity_buying,\n",
    "  tmp.DocNo_ID doc_no_buying\n",
    "from #tmp_internal_order tmp\n",
    "-- for json path))\n",
    "\n",
    "/* drop temp table when done */\n",
    "drop table #tmp_internal_order\n",
    "\"\"\"\n",
    "df_fact_internal_order = dx.ms.read_mssql(uri=shared.env.bravo_uri, query=query_fact_internal_order, params={\n",
    "  \"view_date\": view_date,\n",
    "})\n",
    "df_fact_internal_order = df_fact_internal_order.with_columns([\n",
    "  pl.col(col).replace([None], 0)\n",
    "  for col, dtype in zip(df_fact_internal_order.columns, df_fact_internal_order.dtypes) if dtype in [pl.Int64, pl.Float64]\n",
    "])"
   ]
  },
  {
   "cell_type": "code",
   "execution_count": null,
   "id": "5918820b",
   "metadata": {
    "tags": [
     "ignore"
    ]
   },
   "outputs": [],
   "source": [
    "# view\n",
    "df_fact_internal_order.head(1)"
   ]
  },
  {
   "cell_type": "code",
   "execution_count": null,
   "id": "7079a0c5",
   "metadata": {
    "tags": [
     "ignore"
    ]
   },
   "outputs": [],
   "source": [
    "# save\n",
    "dx.df.write_data_file(df=df_fact_internal_order, data_file=output_file_default())"
   ]
  }
 ],
 "metadata": {
  "kernelspec": {
   "display_name": "Python 3",
   "language": "python",
   "name": "python3"
  },
  "language_info": {
   "codemirror_mode": {
    "name": "ipython",
    "version": 3
   },
   "file_extension": ".py",
   "mimetype": "text/x-python",
   "name": "python",
   "nbconvert_exporter": "python",
   "pygments_lexer": "ipython3",
   "version": "3.11.9"
  }
 },
 "nbformat": 4,
 "nbformat_minor": 5
}
