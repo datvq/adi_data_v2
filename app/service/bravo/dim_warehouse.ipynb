{
 "cells": [
  {
   "cell_type": "code",
   "execution_count": null,
   "id": "5b9f6f9e",
   "metadata": {},
   "outputs": [],
   "source": [
    "# import\n",
    "import os\n",
    "import polars as pl\n",
    "import lib.dx as dx\n",
    "import app.shared as shared\n",
    "from datetime import date, datetime, timedelta\n",
    "\n",
    "dx.reload(shared)"
   ]
  },
  {
   "cell_type": "code",
   "execution_count": null,
   "id": "64771e74",
   "metadata": {},
   "outputs": [],
   "source": [
    "# default\n",
    "def output_file_default() -> str:\n",
    "  return os.path.join(shared.env.data_dir, \"staged\", \"bravo\", \"dim_warehouse.parquet\")"
   ]
  },
  {
   "cell_type": "code",
   "execution_count": null,
   "id": "b6b5c701",
   "metadata": {
    "tags": [
     "parameters"
    ]
   },
   "outputs": [],
   "source": [
    "# params"
   ]
  },
  {
   "cell_type": "code",
   "execution_count": null,
   "id": "016e2b1b",
   "metadata": {
    "tags": [
     "return"
    ]
   },
   "outputs": [],
   "source": [
    "# return\n",
    "df_dim_warehouse: pl.DataFrame"
   ]
  },
  {
   "cell_type": "code",
   "execution_count": null,
   "id": "e9c94664",
   "metadata": {},
   "outputs": [],
   "source": [
    "# transform\n",
    "query_dim_warehouse = \"\"\"\n",
    "select\n",
    "  warehouse.IsActive is_active,\n",
    "  warehouse.Id warehouse_id,\n",
    "  warehouse.Code warehouse_code,\n",
    "  warehouse.Name warehouse_name,\n",
    "  branch.AreaCode warehouse_branch_code,\n",
    "  branch.AreaName2 warehouse_branch_name,\n",
    "  receive_branch.AreaCode receive_warehouse_branch_code,\n",
    "  receive_branch.AreaName2 receive_warehouse_branch_name,\n",
    "  dateadd(hour, 7, warehouse.CreatedAt) created_at,\n",
    "  dateadd(hour, 7, (select max(d) from (values\n",
    "    (branch.ModifiedAt),\n",
    "    (receive_branch.ModifiedAt),\n",
    "    (warehouse.ModifiedAt)\n",
    "  ) all_dates(d))) modified_at\n",
    "from B20Warehouse warehouse\n",
    "  left join B20Area branch on warehouse.AreaCode = branch.AreaCode\n",
    "  left join B20Area receive_branch on warehouse.ReceiveAreaCode = receive_branch.AreaCode\n",
    "where warehouse.IsGroup = 0\n",
    "\"\"\"\n",
    "df_dim_warehouse = dx.ms.read_mssql(uri=shared.env.bravo_uri, query=query_dim_warehouse, params=None)"
   ]
  },
  {
   "cell_type": "code",
   "execution_count": null,
   "id": "62f2089d",
   "metadata": {
    "tags": [
     "ignore"
    ]
   },
   "outputs": [],
   "source": [
    "# view\n",
    "df_dim_warehouse.head(1)"
   ]
  },
  {
   "cell_type": "code",
   "execution_count": null,
   "id": "582d285e",
   "metadata": {
    "tags": [
     "ignore"
    ]
   },
   "outputs": [],
   "source": [
    "# save\n",
    "dx.df.write_data_file(df=df_dim_warehouse, data_file=output_file_default())"
   ]
  }
 ],
 "metadata": {
  "kernelspec": {
   "display_name": "Python 3",
   "language": "python",
   "name": "python3"
  },
  "language_info": {
   "codemirror_mode": {
    "name": "ipython",
    "version": 3
   },
   "file_extension": ".py",
   "mimetype": "text/x-python",
   "name": "python",
   "nbconvert_exporter": "python",
   "pygments_lexer": "ipython3",
   "version": "3.11.9"
  }
 },
 "nbformat": 4,
 "nbformat_minor": 5
}
