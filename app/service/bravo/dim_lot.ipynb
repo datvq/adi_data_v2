{
 "cells": [
  {
   "cell_type": "code",
   "execution_count": null,
   "id": "5b9f6f9e",
   "metadata": {},
   "outputs": [],
   "source": [
    "# import\n",
    "import os\n",
    "import polars as pl\n",
    "import lib.dx as dx\n",
    "import app.shared as shared\n",
    "from datetime import date, datetime, timedelta\n",
    "\n",
    "dx.reload(shared)"
   ]
  },
  {
   "cell_type": "code",
   "execution_count": null,
   "id": "9272e9f1",
   "metadata": {},
   "outputs": [],
   "source": [
    "# default\n",
    "def output_file_default() -> str:\n",
    "  return os.path.join(shared.env.data_dir, \"staged\", \"bravo\", \"dim_lot.parquet\")"
   ]
  },
  {
   "cell_type": "code",
   "execution_count": null,
   "id": "b6b5c701",
   "metadata": {
    "tags": [
     "parameters"
    ]
   },
   "outputs": [],
   "source": [
    "# params"
   ]
  },
  {
   "cell_type": "code",
   "execution_count": null,
   "id": "a74f9da1",
   "metadata": {
    "tags": [
     "return"
    ]
   },
   "outputs": [],
   "source": [
    "# return\n",
    "df_dim_lot: pl.DataFrame"
   ]
  },
  {
   "cell_type": "code",
   "execution_count": null,
   "id": "e50d89be",
   "metadata": {},
   "outputs": [],
   "source": [
    "query_dim_lot = f\"\"\"\n",
    "select\n",
    "  lot.IsActive is_active,\n",
    "  concat(item.Code, '_', lot.ItemLotCode) lot_code,\n",
    "  item.Code item_code,\n",
    "  lot.ItemLotCode item_lot_code,\n",
    "  lot.MfgDate mfg_date,\n",
    "  lot.ExpiryDate exp_date,\n",
    "  dateadd(hour, 7, lot.CreatedAt) created_at,\n",
    "  dateadd(hour, 7, (select max(d) from (values\n",
    "    (item.ModifiedAt),\n",
    "    (lot.ModifiedAt)\n",
    "  ) all_dates(d))) modified_at\n",
    "from B20ItemLotDetail lot\n",
    "  left join B20Item item on lot.ItemId = item.Id\n",
    "where lot.IsGroup = 0\n",
    "\"\"\"\n",
    "\n",
    "df_dim_lot = dx.ms.read_mssql(uri=shared.env.bravo_uri, query=query_dim_lot, params=None)\n",
    "df_dim_lot = df_dim_lot.unique(subset=[\"lot_code\"], keep=\"last\", maintain_order=False)"
   ]
  },
  {
   "cell_type": "code",
   "execution_count": null,
   "id": "130938d6",
   "metadata": {
    "tags": [
     "ignore"
    ]
   },
   "outputs": [],
   "source": [
    "# view\n",
    "df_dim_lot.head(1)"
   ]
  },
  {
   "cell_type": "code",
   "execution_count": null,
   "id": "582d285e",
   "metadata": {
    "tags": [
     "ignore"
    ]
   },
   "outputs": [],
   "source": [
    "# save\n",
    "dx.df.write_data_file(df=df_dim_lot, data_file=output_file_default())"
   ]
  }
 ],
 "metadata": {
  "kernelspec": {
   "display_name": "Python 3",
   "language": "python",
   "name": "python3"
  },
  "language_info": {
   "codemirror_mode": {
    "name": "ipython",
    "version": 3
   },
   "file_extension": ".py",
   "mimetype": "text/x-python",
   "name": "python",
   "nbconvert_exporter": "python",
   "pygments_lexer": "ipython3",
   "version": "3.11.9"
  }
 },
 "nbformat": 4,
 "nbformat_minor": 5
}
