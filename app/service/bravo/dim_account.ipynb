{
 "cells": [
  {
   "cell_type": "code",
   "execution_count": null,
   "id": "5b9f6f9e",
   "metadata": {},
   "outputs": [],
   "source": [
    "# import\n",
    "import os\n",
    "import polars as pl\n",
    "import lib.dx as dx\n",
    "import app.shared as shared\n",
    "from datetime import date, datetime, timedelta\n",
    "\n",
    "dx.reload(shared)"
   ]
  },
  {
   "cell_type": "code",
   "execution_count": null,
   "id": "4f3a4c82",
   "metadata": {},
   "outputs": [],
   "source": [
    "# default\n",
    "def output_file_default() -> str:\n",
    "  return os.path.join(shared.env.data_dir, \"staged\", \"bravo\", \"dim_account.parquet\")"
   ]
  },
  {
   "cell_type": "code",
   "execution_count": null,
   "id": "b6b5c701",
   "metadata": {
    "tags": [
     "parameters"
    ]
   },
   "outputs": [],
   "source": [
    "# params"
   ]
  },
  {
   "cell_type": "code",
   "execution_count": null,
   "id": "27744522",
   "metadata": {
    "tags": [
     "return"
    ]
   },
   "outputs": [],
   "source": [
    "# return\n",
    "df_dim_account: pl.DataFrame"
   ]
  },
  {
   "cell_type": "code",
   "execution_count": null,
   "id": "e9c94664",
   "metadata": {},
   "outputs": [],
   "source": [
    "# transform\n",
    "query_dim_account = \"\"\"\n",
    "select\n",
    "  account.IsActive is_active,\n",
    "  left(account.Code, 1) root_account_code,\n",
    "  groupacc.Code group_account_code,\n",
    "  groupacc.Name group_account_name,\n",
    "  account.Code account_code,\n",
    "  account.Name account_name,\n",
    "  account.ForeignCurrAccount is_foreign_currency_account,\n",
    "  account.BankAccount is_bank_account,\n",
    "  account.LongTermAccount is_long_term_account,\n",
    "  account.IsParentAccount is_parent_account,\n",
    "  account.GLAccount has_general_ledger,\n",
    "  account.CustomerAccount has_customer_account,\n",
    "  account.ProductAccount has_product_account,\n",
    "  account.ItemCatgAccount has_category_account,\n",
    "  dateadd(hour, 7, account.CreatedAt) created_at,\n",
    "  dateadd(hour, 7, (select max(d) from (values\n",
    "    (groupacc.ModifiedAt),\n",
    "    (account.ModifiedAt)\n",
    "  ) all_dates(d))) modified_at\n",
    "from B20ChartOfAccount account\n",
    "  left join B20ChartOfAccount groupacc on groupacc.Code = left(account.Code, 3)\n",
    "where account.IsGroup = 0\n",
    "\"\"\"\n",
    "df_dim_account = dx.ms.read_mssql(uri=shared.env.bravo_uri, query=query_dim_account, params=None)"
   ]
  },
  {
   "cell_type": "code",
   "execution_count": null,
   "id": "0a64159b",
   "metadata": {
    "tags": [
     "ignore"
    ]
   },
   "outputs": [],
   "source": [
    "# view\n",
    "df_dim_account.head(1)"
   ]
  },
  {
   "cell_type": "code",
   "execution_count": null,
   "id": "582d285e",
   "metadata": {
    "tags": [
     "ignore"
    ]
   },
   "outputs": [],
   "source": [
    "# save\n",
    "dx.df.write_data_file(df=df_dim_account, data_file=output_file_default())"
   ]
  }
 ],
 "metadata": {
  "kernelspec": {
   "display_name": "Python 3",
   "language": "python",
   "name": "python3"
  },
  "language_info": {
   "codemirror_mode": {
    "name": "ipython",
    "version": 3
   },
   "file_extension": ".py",
   "mimetype": "text/x-python",
   "name": "python",
   "nbconvert_exporter": "python",
   "pygments_lexer": "ipython3",
   "version": "3.11.9"
  }
 },
 "nbformat": 4,
 "nbformat_minor": 5
}
