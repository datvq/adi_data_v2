{
 "cells": [
  {
   "cell_type": "code",
   "execution_count": null,
   "id": "8b6fefde",
   "metadata": {},
   "outputs": [],
   "source": [
    "# import\n",
    "import os\n",
    "import polars as pl\n",
    "import lib.dx as dx\n",
    "import app.shared as shared\n",
    "from datetime import date, datetime, timedelta\n",
    "\n",
    "dx.reload(shared)"
   ]
  },
  {
   "cell_type": "code",
   "execution_count": null,
   "id": "db18d4a2",
   "metadata": {},
   "outputs": [],
   "source": [
    "# default\n",
    "def output_file_default() -> str:\n",
    "  return os.path.join(shared.env.data_dir, \"staged\", \"bravo\", \"fact_inventory_lot.parquet\")\n",
    "\n",
    "def view_date_default() -> str:\n",
    "  return dx.dt.resolve_datetime_string(\"tomorrow\")\n",
    "\n",
    "def df_fact_inventory_item_default() -> str:\n",
    "  data_file = os.path.join(shared.env.data_dir, \"staged\", \"bravo\", \"fact_inventory_item.parquet\")\n",
    "  return dx.df.read_data_file(data_file)"
   ]
  },
  {
   "cell_type": "code",
   "execution_count": null,
   "id": "26f89caa",
   "metadata": {
    "tags": [
     "parameters"
    ]
   },
   "outputs": [],
   "source": [
    "# params\n",
    "view_date: str = view_date_default()\n",
    "df_fact_inventory_item: pl.DataFrame = df_fact_inventory_item_default()"
   ]
  },
  {
   "cell_type": "code",
   "execution_count": null,
   "id": "31039097",
   "metadata": {
    "tags": [
     "return"
    ]
   },
   "outputs": [],
   "source": [
    "# return\n",
    "df_fact_inventory_lot: pl.DataFrame"
   ]
  },
  {
   "cell_type": "code",
   "execution_count": null,
   "id": "d2e23077",
   "metadata": {},
   "outputs": [],
   "source": [
    "# transform\n",
    "query_fact_inventory_lot = \"\"\"\n",
    "declare @view_date nvarchar(10) = convert(nchar(10), getdate(), 23);\n",
    "--[QUERY]--\n",
    "set nocount on;\n",
    "set ansi_warnings off;\n",
    "execute dbo.usp_Vth_EntryAndAxistByLot \n",
    "  @_DocDate1 = @view_date,\n",
    "  @_DocDate2 = @view_date,\n",
    "  @_GroupByExpr = 1, -- 0: không phân kho, 1: phân kho\n",
    "  @_BranchCode = 'A01',\n",
    "  @_RepType = 1 -- 0: tổng hợp NXT theo lô, 1: báo cáo tồn kho theo lô\n",
    "\"\"\"\n",
    "df_fact_inventory_lot = dx.ms.read_mssql(uri=shared.env.bravo_uri, query=query_fact_inventory_lot, params={\n",
    "  \"view_date\": view_date,\n",
    "})\n",
    "df_fact_inventory_lot = df_fact_inventory_lot.with_columns(\n",
    "  pl.lit(view_date).cast(pl.Date).alias(\"ViewDate\"),\n",
    "  (pl.col(\"ItemCode\") + \"_\" + pl.col(\"ItemLotCode\")).alias(\"LotCode\"),\n",
    ")\n",
    "df_fact_inventory_lot = df_fact_inventory_lot.filter(\n",
    "  (pl.col(\"CloseQuantity\") != 0),\n",
    ")\n",
    "df_fact_inventory_lot = dx.df.rename_columns(df_fact_inventory_lot, selected_cols={\n",
    "  \"ViewDate\": \"view_date\",\n",
    "  \"WarehouseCode\": \"warehouse_code\",\n",
    "  \"LotCode\": \"lot_code\",\n",
    "  \"ItemCode\": \"item_code\",\n",
    "  \"ItemLotCode\": \"item_lot_code\",\n",
    "  \"CloseQuantity\": \"quantity\",\n",
    "})\n",
    "\n",
    "# Diff amount\n",
    "df_diff = df_fact_inventory_item.select([\"warehouse_code\", \"item_code\", \"quantity\"]).join(\n",
    "  df_fact_inventory_lot.group_by([\"warehouse_code\", \"item_code\"]).agg(pl.col(\"quantity\").sum().alias(\"quantity_lot\")),\n",
    "  on=[\"warehouse_code\", \"item_code\"],\n",
    "  how=\"full\",\n",
    "  suffix=\"_\",\n",
    "  coalesce=True,\n",
    ")\n",
    "df_diff = df_diff.with_columns(\n",
    "  pl.col(\"quantity\").replace([None], 0),\n",
    "  pl.col(\"quantity_lot\").replace([None], 0),\n",
    ")\n",
    "df_diff = df_diff.with_columns(\n",
    "  (pl.col(\"quantity\") - pl.col(\"quantity_lot\")).alias(\"diff_quantity\")\n",
    ")\n",
    "df_diff = df_diff.drop([\"quantity\", \"quantity_lot\"])\n",
    "df_diff = df_diff.rename({\"diff_quantity\": \"quantity\"})\n",
    "df_diff = df_diff.filter(pl.col(\"quantity\") != 0)\n",
    "df_diff = df_diff.with_columns(\n",
    "  pl.lit(view_date).cast(pl.Date).alias(\"view_date\"),\n",
    "  pl.lit(None).cast(pl.String).alias(\"lot_code\"),\n",
    ")\n",
    "df_fact_inventory_lot = dx.df.rename_columns(df_fact_inventory_lot, selected_cols={\n",
    "  \"view_date\": \"view_date\",\n",
    "  \"warehouse_code\": \"warehouse_code\",\n",
    "  \"lot_code\": \"lot_code\",\n",
    "  \"item_code\": \"item_code\",\n",
    "  \"item_lot_code\": \"item_lot_code\",\n",
    "  \"quantity\": \"quantity\",\n",
    "})\n",
    "df_fact_inventory_lot = pl.concat(\n",
    "  [df_fact_inventory_lot, df_diff],\n",
    "  how=\"align\",\n",
    "  rechunk=True,\n",
    ")"
   ]
  },
  {
   "cell_type": "code",
   "execution_count": null,
   "id": "3a5a7913",
   "metadata": {},
   "outputs": [],
   "source": [
    "# add missing item\n",
    "\n",
    "# filter missing items\n",
    "df_item_missing = df_fact_inventory_item.join(\n",
    "  df_fact_inventory_lot.select([\"warehouse_code\", \"item_code\"]),\n",
    "  left_on=[\"warehouse_code\", \"item_code\"],\n",
    "  right_on=[\"warehouse_code\", \"item_code\"],\n",
    "  how=\"anti\",\n",
    "  suffix=\"_\",\n",
    "  coalesce=True,\n",
    ")\n",
    "\n",
    "# append missing items to result\n",
    "if len(df_item_missing) > 0:\n",
    "  df_fact_inventory_lot = pl.concat(\n",
    "    [df_fact_inventory_lot, df_item_missing],\n",
    "    how=\"align\",\n",
    "    rechunk=True,\n",
    "  )"
   ]
  },
  {
   "cell_type": "code",
   "execution_count": null,
   "id": "5918820b",
   "metadata": {
    "tags": [
     "ignore"
    ]
   },
   "outputs": [],
   "source": [
    "# view\n",
    "df_fact_inventory_lot.head(1)"
   ]
  },
  {
   "cell_type": "code",
   "execution_count": null,
   "id": "7079a0c5",
   "metadata": {
    "tags": [
     "ignore"
    ]
   },
   "outputs": [],
   "source": [
    "# save\n",
    "dx.df.write_data_file(df=df_fact_inventory_lot, data_file=output_file_default())"
   ]
  }
 ],
 "metadata": {
  "kernelspec": {
   "display_name": "Python 3",
   "language": "python",
   "name": "python3"
  },
  "language_info": {
   "codemirror_mode": {
    "name": "ipython",
    "version": 3
   },
   "file_extension": ".py",
   "mimetype": "text/x-python",
   "name": "python",
   "nbconvert_exporter": "python",
   "pygments_lexer": "ipython3",
   "version": "3.11.9"
  }
 },
 "nbformat": 4,
 "nbformat_minor": 5
}
