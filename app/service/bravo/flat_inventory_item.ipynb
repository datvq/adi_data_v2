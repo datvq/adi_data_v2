{
 "cells": [
  {
   "cell_type": "code",
   "execution_count": null,
   "id": "20fa90f6",
   "metadata": {},
   "outputs": [],
   "source": [
    "# import\n",
    "import os\n",
    "import polars as pl\n",
    "import lib.dx as dx\n",
    "import app.shared as shared\n",
    "from datetime import date, datetime, timedelta\n",
    "\n",
    "dx.reload(shared)"
   ]
  },
  {
   "cell_type": "code",
   "execution_count": null,
   "id": "1df55ce7",
   "metadata": {},
   "outputs": [],
   "source": [
    "# default\n",
    "def output_file_default() -> str:\n",
    "  return os.path.join(shared.env.data_dir, \"staged\", \"bravo\", \"flat_inventory_item.parquet\")\n",
    "\n",
    "def df_fact_inventory_item_default() -> str:\n",
    "  data_file = os.path.join(shared.env.data_dir, \"staged\", \"bravo\", \"fact_inventory_item.parquet\")\n",
    "  return dx.df.read_data_file(data_file)\n",
    "\n",
    "def df_dim_date_default() -> str:\n",
    "  data_file = os.path.join(shared.env.data_dir, \"staged\", \"bravo\", \"dim_date.parquet\")\n",
    "  return dx.df.read_data_file(data_file)\n",
    "\n",
    "def df_dim_warehouse_default() -> str:\n",
    "  data_file = os.path.join(shared.env.data_dir, \"staged\", \"bravo\", \"dim_warehouse.parquet\")\n",
    "  return dx.df.read_data_file(data_file)\n",
    "\n",
    "def df_dim_item_default() -> str:\n",
    "  data_file = os.path.join(shared.env.data_dir, \"staged\", \"bravo\", \"dim_item.parquet\")\n",
    "  return dx.df.read_data_file(data_file)"
   ]
  },
  {
   "cell_type": "code",
   "execution_count": null,
   "id": "2cbe0ef7",
   "metadata": {
    "tags": [
     "parameters"
    ]
   },
   "outputs": [],
   "source": [
    "# params\n",
    "df_fact_inventory_item: pl.DataFrame = df_fact_inventory_item_default()\n",
    "df_dim_date: pl.DataFrame = df_dim_date_default()\n",
    "df_dim_warehouse: pl.DataFrame = df_dim_warehouse_default()\n",
    "df_dim_item: pl.DataFrame = df_dim_item_default()"
   ]
  },
  {
   "cell_type": "code",
   "execution_count": null,
   "id": "db8bc2c7",
   "metadata": {
    "tags": [
     "return"
    ]
   },
   "outputs": [],
   "source": [
    "# return\n",
    "df_flat_inventory_item: pl.DataFrame"
   ]
  },
  {
   "cell_type": "code",
   "execution_count": null,
   "id": "6adf96b1",
   "metadata": {},
   "outputs": [],
   "source": [
    "# context\n",
    "ctx_dwh: pl.SQLContext = pl.SQLContext()\n",
    "\n",
    "ctx_dwh.register(\"fact_inventory_item\", df_fact_inventory_item)\n",
    "ctx_dwh.register(\"dim_date\", df_dim_date)\n",
    "ctx_dwh.register(\"dim_item\", df_dim_item)\n",
    "ctx_dwh.register(\"dim_warehouse\", df_dim_warehouse)\n",
    "\n",
    "ctx_dwh.tables()"
   ]
  },
  {
   "cell_type": "code",
   "execution_count": null,
   "id": "8be128d0",
   "metadata": {},
   "outputs": [],
   "source": [
    "# transform\n",
    "query_flat_inventory_item = \"\"\"\n",
    "select\n",
    "  flat_inventory_item.view_date view_date,\n",
    "  dim_date.fiscal_year fiscal_year,\n",
    "  dim_date.fiscal_year_index fiscal_year_index,\n",
    "  dim_date.fiscal_quarter fiscal_quarter,\n",
    "  dim_date.fiscal_quarter_index fiscal_quarter_index,\n",
    "  dim_date.fiscal_month fiscal_month,\n",
    "  dim_date.fiscal_month_index fiscal_month_index,\n",
    "  dim_date.year year,\n",
    "  dim_date.year_index year_index,\n",
    "  dim_date.quarter quarter,\n",
    "  dim_date.quarter_index quarter_index,\n",
    "  dim_date.month month,\n",
    "  dim_date.month_index month_index,\n",
    "  dim_date.day day,\n",
    "  dim_date.day_index day_index,\n",
    "  dim_date.week week,\n",
    "  dim_date.week_index week_index,\n",
    "  dim_date.weekday weekday,\n",
    "  dim_date.weekday_index weekday_index,\n",
    "  dim_date.yyqq yyqq,\n",
    "  dim_date.yymm yymm,\n",
    "\n",
    "  flat_inventory_item.warehouse_code warehouse_code,\n",
    "  dim_warehouse.warehouse_name warehouse_name,\n",
    "  dim_warehouse.warehouse_branch_code warehouse_branch_code,\n",
    "  dim_warehouse.warehouse_branch_name warehouse_branch_name,\n",
    "  dim_warehouse.receive_warehouse_branch_code receive_warehouse_branch_code,\n",
    "  dim_warehouse.receive_warehouse_branch_name receive_warehouse_branch_name,\n",
    "\n",
    "  flat_inventory_item.item_code item_code,\n",
    "  dim_item.item_name item_name,\n",
    "  dim_item.parent_code parent_code,\n",
    "  dim_item.parent_name parent_name,\n",
    "  dim_item.size_code size_code,\n",
    "  dim_item.size_name size_name,\n",
    "  dim_item.product_code product_code,\n",
    "  dim_item.product_name product_name,\n",
    "  dim_item.category_code product_category_code,\n",
    "  dim_item.category_name product_category_name,\n",
    "  dim_item.unit unit,\n",
    "  dim_item.net_weight net_weight,\n",
    "  dim_item.bag_botle_weight bag_botle_weight,\n",
    "  dim_item.units_per_package units_per_package,\n",
    "  dim_item.package_type package_type,\n",
    "  dim_item.item_type item_type,\n",
    "\n",
    "  flat_inventory_item.unit_cost unit_cost,\n",
    "  flat_inventory_item.quantity quantity,\n",
    "  flat_inventory_item.amount amount,\n",
    "\n",
    "  (flat_inventory_item.quantity * dim_item.net_weight) weight,\n",
    "  (flat_inventory_item.quantity / nullif(units_per_package, 0)) packages,\n",
    "\n",
    "from fact_inventory_item flat_inventory_item\n",
    "  left join dim_date dim_date on flat_inventory_item.view_date = dim_date.date\n",
    "  left join dim_warehouse dim_warehouse on flat_inventory_item.warehouse_code = dim_warehouse.warehouse_code\n",
    "  left join dim_item dim_item on flat_inventory_item.item_code = dim_branch.item_code\n",
    "\"\"\"\n",
    "df_flat_inventory_item = ctx_dwh.execute(query=query_flat_inventory_item, eager=True)"
   ]
  },
  {
   "cell_type": "code",
   "execution_count": null,
   "id": "8db84a9f",
   "metadata": {
    "tags": [
     "ignore"
    ]
   },
   "outputs": [],
   "source": [
    "# view\n",
    "df_flat_inventory_item.head(1)"
   ]
  },
  {
   "cell_type": "code",
   "execution_count": null,
   "id": "bdccc4d7",
   "metadata": {
    "tags": [
     "ignore"
    ]
   },
   "outputs": [],
   "source": [
    "# save\n",
    "dx.df.write_data_file(df=df_flat_inventory_item, data_file=output_file_default())"
   ]
  }
 ],
 "metadata": {
  "kernelspec": {
   "display_name": "Python 3",
   "language": "python",
   "name": "python3"
  },
  "language_info": {
   "codemirror_mode": {
    "name": "ipython",
    "version": 3
   },
   "file_extension": ".py",
   "mimetype": "text/x-python",
   "name": "python",
   "nbconvert_exporter": "python",
   "pygments_lexer": "ipython3",
   "version": "3.11.9"
  }
 },
 "nbformat": 4,
 "nbformat_minor": 5
}
