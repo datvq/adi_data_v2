{
 "cells": [
  {
   "cell_type": "code",
   "execution_count": null,
   "id": "a35b2201",
   "metadata": {},
   "outputs": [],
   "source": [
    "# import\n",
    "import os\n",
    "import calendar\n",
    "import requests\n",
    "import polars as pl\n",
    "import lib.dx as dx\n",
    "import lib.adi as adi\n",
    "import app.shared as shared\n",
    "from datetime import date, datetime, timedelta\n",
    "\n",
    "dx.reload(adi, shared)"
   ]
  },
  {
   "cell_type": "code",
   "execution_count": null,
   "id": "bca9a0aa",
   "metadata": {},
   "outputs": [],
   "source": [
    "# default\n",
    "def output_file_default() -> str:\n",
    "  return os.path.join(shared.env.data_dir, \"staged\", \"mobiwork\", \"dim_customer.parquet\")"
   ]
  },
  {
   "cell_type": "code",
   "execution_count": null,
   "id": "7b96e9d3",
   "metadata": {
    "tags": [
     "parameters"
    ]
   },
   "outputs": [],
   "source": [
    "# params"
   ]
  },
  {
   "cell_type": "code",
   "execution_count": null,
   "id": "3fd546c8",
   "metadata": {
    "tags": [
     "return"
    ]
   },
   "outputs": [],
   "source": [
    "# return\n",
    "pl_dim_customer: pl.DataFrame"
   ]
  },
  {
   "cell_type": "code",
   "execution_count": null,
   "id": "f16612fe",
   "metadata": {},
   "outputs": [],
   "source": [
    "# fact_visit_plan\n",
    "url = f\"\"\"{\n",
    "  shared.env.mobiwork_login_base_url\n",
    "}/RecordsV2?next=1000000&skip=0&formID=57bea55d94dec72c0c5b4e10\"\"\"\n",
    "header = adi.mobiwork.create_mobiwork_header(\n",
    "  email=shared.env.mobiwork_email,\n",
    "  password=shared.env.mobiwork_password,\n",
    "  base_url=shared.env.mobiwork_base_url,\n",
    ")\n",
    "res: requests.models.Response = requests.post(\n",
    "  url=url,\n",
    "  headers=header,\n",
    "  json={\"objfind\": {}, \"objorder\": {\"createdDate\": -1}},\n",
    ")\n",
    "data: dict = res.json()\n",
    "\n",
    "result = data.get(\"result\", [])\n",
    "rows: list[dict] = []\n",
    "for item in result:\n",
    "  item: dict\n",
    "  row: dict = {\n",
    "    \"locked\": item.get(\"isArchived\"),\n",
    "    \"customer_uuid\": item.get(\"_id\"),\n",
    "    \"customer_id\": item.get(\"data\", {}).get(\"id_bravo\", {}).get(\"viewData\"),\n",
    "    \"customer_code\": item.get(\"data\", {}).get(\"ma_khach_hang\", {}).get(\"viewData\"),\n",
    "    \"customer_name\": item.get(\"data\", {}).get(\"khach_hang\", {}).get(\"viewData\"),\n",
    "    \"phone_number\": item.get(\"data\", {}).get(\"sdt\", {}).get(\"viewData\"),\n",
    "    \"mobile_account\": item.get(\"settings\", {}).get(\"phoneacc\"),\n",
    "    \"mobile_account_updated_by\": item.get(\"settings\", {}).get(\"phoneaccby\", {}).get(\"name\"),\n",
    "    \"latitude\": item.get(\"lat\"),\n",
    "    \"longitude\": item.get(\"long\"),\n",
    "    \"address\": item.get(\"data\", {}).get(\"dia_chi\", {}).get(\"viewData\"),\n",
    "    \"channel_code\": item.get(\"data\", {}).get(\"kenh\", {}).get(\"choice_values\"),\n",
    "    \"channel_name\": item.get(\"data\", {}).get(\"kenh\", {}).get(\"viewData\"),\n",
    "    \"biz_type_code\": item.get(\"data\", {}).get(\"nhom_khach_hang\", {}).get(\"choice_values\"),\n",
    "    \"biz_type_name\": item.get(\"data\", {}).get(\"nhom_khach_hang\", {}).get(\"viewData\"),\n",
    "    \"customer_type_code\": item.get(\"data\", {}).get(\"loai_khach_hang\", {}).get(\"choice_values\"),\n",
    "    \"customer_type_name\": item.get(\"data\", {}).get(\"loai_khach_hang\", {}).get(\"viewData\"),\n",
    "    \"province_code\": item.get(\"data\", {}).get(\"tinh\", {}).get(\"choice_values\"),\n",
    "    \"province_name\": item.get(\"data\", {}).get(\"tinh\", {}).get(\"viewData\"),\n",
    "    \"district_code\": item.get(\"data\", {}).get(\"quan\", {}).get(\"choice_values\"),\n",
    "    \"district_name\": item.get(\"data\", {}).get(\"quan\", {}).get(\"viewData\"),\n",
    "    \"commune_code\": item.get(\"data\", {}).get(\"xa\", {}).get(\"choice_values\"),\n",
    "    \"commune_name\": item.get(\"data\", {}).get(\"xa\", {}).get(\"viewData\"),\n",
    "    \"created_by\": item.get(\"createdBy\", {}).get(\"name\"),\n",
    "    \"created_at\": datetime.fromtimestamp(item.get(\"createdDate\", 0) / 1000),\n",
    "    \"updated_by\": item.get(\"modifiedBy\", {}).get(\"name\"),\n",
    "    \"updated_at\": datetime.fromtimestamp(item.get(\"modifiedDate\", 0) / 1000),\n",
    "  }\n",
    "  rows.append(row)\n",
    "\n",
    "pl_dim_customer = pl.from_dicts(rows, infer_schema_length=1000)"
   ]
  },
  {
   "cell_type": "code",
   "execution_count": null,
   "id": "8fd0556e",
   "metadata": {
    "tags": [
     "ignore"
    ]
   },
   "outputs": [],
   "source": [
    "# view\n",
    "pl_dim_customer.head(1)"
   ]
  },
  {
   "cell_type": "code",
   "execution_count": null,
   "id": "80f37455",
   "metadata": {
    "tags": [
     "ignore"
    ]
   },
   "outputs": [],
   "source": [
    "# save\n",
    "dx.df.write_data_file(df=pl_dim_customer, data_file=output_file_default())"
   ]
  }
 ],
 "metadata": {
  "kernelspec": {
   "display_name": "Python 3",
   "language": "python",
   "name": "python3"
  },
  "language_info": {
   "codemirror_mode": {
    "name": "ipython",
    "version": 3
   },
   "file_extension": ".py",
   "mimetype": "text/x-python",
   "name": "python",
   "nbconvert_exporter": "python",
   "pygments_lexer": "ipython3",
   "version": "3.11.9"
  }
 },
 "nbformat": 4,
 "nbformat_minor": 5
}
