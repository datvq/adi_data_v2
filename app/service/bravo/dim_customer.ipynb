{
 "cells": [
  {
   "cell_type": "code",
   "execution_count": null,
   "id": "5b9f6f9e",
   "metadata": {},
   "outputs": [],
   "source": [
    "# import\n",
    "import os\n",
    "import polars as pl\n",
    "import lib.dx as dx\n",
    "import app.shared as shared\n",
    "from datetime import date, datetime, timedelta\n",
    "\n",
    "dx.reload(shared)"
   ]
  },
  {
   "cell_type": "code",
   "execution_count": null,
   "id": "ef65d2ed",
   "metadata": {},
   "outputs": [],
   "source": [
    "# default\n",
    "def output_file_default() -> str:\n",
    "  return os.path.join(shared.env.data_dir, \"staged\", \"bravo\", \"dim_customer.parquet\")\n",
    "\n",
    "def view_date_default() -> str:\n",
    "  return dx.dt.resolve_datetime_string(\"tomorrow\")"
   ]
  },
  {
   "cell_type": "code",
   "execution_count": null,
   "id": "b6b5c701",
   "metadata": {
    "tags": [
     "parameters"
    ]
   },
   "outputs": [],
   "source": [
    "# params\n",
    "view_date: str = view_date_default()"
   ]
  },
  {
   "cell_type": "code",
   "execution_count": null,
   "id": "3abe0a17",
   "metadata": {
    "tags": [
     "return"
    ]
   },
   "outputs": [],
   "source": [
    "# return\n",
    "df_dim_customer: pl.DataFrame"
   ]
  },
  {
   "cell_type": "code",
   "execution_count": null,
   "id": "e9c94664",
   "metadata": {},
   "outputs": [],
   "source": [
    "# transform\n",
    "query_dim_customer = \"\"\"\n",
    "declare @view_date nvarchar(10) = convert(nchar(10), getdate(), 23);\n",
    "--[QUERY]--\n",
    "with\n",
    "rc as (\n",
    "  select\n",
    "    rc.CustomerId customer_id,\n",
    "    rc.RegionCode region_code,\n",
    "    rc.StartDate assigned_date\n",
    "  from (\n",
    "    select\n",
    "      CustomerId,\n",
    "      RegionCode,\n",
    "      StartDate,\n",
    "      row_number() over(\n",
    "        partition by\n",
    "          CustomerId\n",
    "        order by StartDate desc\n",
    "      ) TopN\n",
    "    from B20RegionCustomer\n",
    "    where StartDate <= @view_date\n",
    "  ) rc\n",
    "  where rc.TopN = 1\n",
    ")\n",
    "select\n",
    "  customer.IsActive is_active,\n",
    "  customer.IsCustomer is_customer,\n",
    "  customer.Id customer_id,\n",
    "  customer.Code customer_code,\n",
    "  customer.Name customer_name,\n",
    "  nullif(customer.Address, '') address,\n",
    "  nullif(replace(replace(replace(coalesce(customer.Tel, customer.PersonTel, null), ' ', ''), '.', ''), '-', ''), '') phone_number,\n",
    "  nullif(customer.Email, '') email,\n",
    "  nullif(customer.Latitude, '') latitude,\n",
    "  nullif(customer.Longitude, '') longitude,\n",
    "  commune.Name commune_name,\n",
    "  district.Name district_name,\n",
    "  province.Name province_name,\n",
    "  branch.AreaCode customer_branch_code,\n",
    "  branch.AreaName2 customer_branch_name,\n",
    "  nullif(customer.Person, '') person,\n",
    "  nullif(customer.TaxRegNo, '') tax_reg_no,\n",
    "  nullif(customer.IdCardNo, '') id_card_no,\n",
    "  customer.IsSendZalo is_send_zalo,\n",
    "  nullif(customer.TelSendZalo, '') tel_send_zalo,\n",
    "  region.Code region_code,\n",
    "  region.Name region_name,\n",
    "  dateadd(hour, 7, customer.CreatedAt) created_at,\n",
    "  dateadd(hour, 7, (select max(d) from (values\n",
    "    (customer.ModifiedAt),\n",
    "    (branch.ModifiedAt),\n",
    "    (province.ModifiedAt),\n",
    "    (district.ModifiedAt),\n",
    "    (commune.ModifiedAt)\n",
    "  ) all_dates(d))) modified_at\n",
    "from B20Customer customer\n",
    "  left join B20Area branch on customer.AreaCode = branch.AreaCode\n",
    "  left join B20HrmProvince province on customer.ProvinceCode = province.Code\n",
    "  left join B20HrmProvince district on customer.DistrictCode = district.Code\n",
    "  left join B20HrmProvince commune on customer.CommuneCode = commune.Code\n",
    "  left join rc on customer.Id = rc.customer_id\n",
    "  left join B20Region region on rc.region_code = region.Code\n",
    "where customer.IsGroup = 0\n",
    "\"\"\"\n",
    "df_dim_customer = dx.ms.read_mssql(uri=shared.env.bravo_uri, query=query_dim_customer, params={\n",
    "  \"view_date\": view_date,\n",
    "})"
   ]
  },
  {
   "cell_type": "code",
   "execution_count": null,
   "id": "20328784",
   "metadata": {
    "tags": [
     "ignore"
    ]
   },
   "outputs": [],
   "source": [
    "# view\n",
    "df_dim_customer.head(1)"
   ]
  },
  {
   "cell_type": "code",
   "execution_count": null,
   "id": "582d285e",
   "metadata": {
    "tags": [
     "ignore"
    ]
   },
   "outputs": [],
   "source": [
    "# save\n",
    "dx.df.write_data_file(df=df_dim_customer, data_file=output_file_default())"
   ]
  }
 ],
 "metadata": {
  "kernelspec": {
   "display_name": "Python 3",
   "language": "python",
   "name": "python3"
  },
  "language_info": {
   "codemirror_mode": {
    "name": "ipython",
    "version": 3
   },
   "file_extension": ".py",
   "mimetype": "text/x-python",
   "name": "python",
   "nbconvert_exporter": "python",
   "pygments_lexer": "ipython3",
   "version": "3.11.9"
  }
 },
 "nbformat": 4,
 "nbformat_minor": 5
}
