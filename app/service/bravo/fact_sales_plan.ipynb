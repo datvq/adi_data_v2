{
 "cells": [
  {
   "cell_type": "code",
   "execution_count": null,
   "id": "41b4babb",
   "metadata": {},
   "outputs": [],
   "source": [
    "# import\n",
    "import os\n",
    "import polars as pl\n",
    "import lib.dx as dx\n",
    "import app.shared as shared\n",
    "from datetime import date, datetime, timedelta\n",
    "\n",
    "dx.reload(shared)"
   ]
  },
  {
   "cell_type": "code",
   "execution_count": null,
   "id": "fe6e524b",
   "metadata": {},
   "outputs": [],
   "source": [
    "# default\n",
    "def output_file_default() -> str:\n",
    "  return os.path.join(shared.env.data_dir, \"staged\", \"bravo\", \"fact_sales_plan.parquet\")\n",
    "\n",
    "def from_date_default() -> str:\n",
    "  return \"2024-10-01\"\n",
    "\n",
    "def to_date_default() -> str:\n",
    "  return dx.dt.resolve_datetime_string(\"end_of_next_fiscal_year\", ffmonth=10)"
   ]
  },
  {
   "cell_type": "code",
   "execution_count": null,
   "id": "373dd43f",
   "metadata": {
    "tags": [
     "parameters"
    ]
   },
   "outputs": [],
   "source": [
    "# params\n",
    "from_date: str = from_date_default()\n",
    "to_date: str = to_date_default()"
   ]
  },
  {
   "cell_type": "code",
   "execution_count": null,
   "id": "46c18e9c",
   "metadata": {
    "tags": [
     "return"
    ]
   },
   "outputs": [],
   "source": [
    "# return\n",
    "df_fact_sales_plan: pl.DataFrame"
   ]
  },
  {
   "cell_type": "code",
   "execution_count": null,
   "id": "e6fa8f00",
   "metadata": {},
   "outputs": [],
   "source": [
    "# transform\n",
    "query_fact_sales_plan = \"\"\"\n",
    "declare @from_date nvarchar(10) = '2024-10-01';\n",
    "declare @to_date nvarchar(10) = '2025-09-30';\n",
    "--[QUERY]--\n",
    "select\n",
    "  kh.Namtaichinh fiscal_year,\n",
    "  kh.Nam year,\n",
    "  kh.Thang month,\n",
    "  datefromparts(kh.Nam, kh.Thang, 1) from_date,\n",
    "  eomonth(datefromparts(kh.Nam, kh.Thang, 1)) to_date,\n",
    "  kh.Vu season_code,\n",
    "  nv.MaChiNhanh saleman_branch_code,\n",
    "  nv.Manhanvien saleman_code,\n",
    "  nv.Tennhanvien saleman_name,\n",
    "  concat(kh.Makh, '_', case\n",
    "    when sp.Nhom_hang_1 = N'Chung' then N'CHU'\n",
    "    when sp.Nhom_hang_1 = N'Giống' then N'GIO'\n",
    "    when sp.Nhom_hang_1 = N'Lúa' then N'LUA'\n",
    "    when sp.Nhom_hang_1 = N'Phân bón' then N'PHB'\n",
    "    when sp.Nhom_hang_1 = N'Phân bón lá' then N'PBL'\n",
    "    when sp.Nhom_hang_1 = N'Rau' then N'RAU'\n",
    "    when sp.Nhom_hang_1 = N'Thiết bị' then N'TBI'\n",
    "    when sp.Nhom_hang_1 = N'Thuốc' then N'THU'\n",
    "    when sp.Nhom_hang_1 = N'Thuốc cỏ' then N'TCO'\n",
    "    else NULL\n",
    "  end) manage_code,\n",
    "  dt.BravoID customer_id,\n",
    "  kh.Makh customer_code,\n",
    "  case\n",
    "    when sp.Nhom_hang_1 = N'Chung' then N'CHU'\n",
    "    when sp.Nhom_hang_1 = N'Giống' then N'GIO'\n",
    "    when sp.Nhom_hang_1 = N'Lúa' then N'LUA'\n",
    "    when sp.Nhom_hang_1 = N'Phân bón' then N'PHB'\n",
    "    when sp.Nhom_hang_1 = N'Phân bón lá' then N'PBL'\n",
    "    when sp.Nhom_hang_1 = N'Rau' then N'RAU'\n",
    "    when sp.Nhom_hang_1 = N'Thiết bị' then N'TBI'\n",
    "    when sp.Nhom_hang_1 = N'Thuốc' then N'THU'\n",
    "    when sp.Nhom_hang_1 = N'Thuốc cỏ' then N'TCO'\n",
    "    else NULL\n",
    "  end category_code,\n",
    "  sp.BravoID item_id,\n",
    "  sp.Ma item_code,\n",
    "  kh.Soluong quantity,\n",
    "  case\n",
    "    when kh.Namtaichinh >= 2024 then round(coalesce(kh.Thanhtien / nullif(kh.Soluong, 0), 0), 1)\n",
    "    else round(coalesce(isnull(tl.TyleDTT_Giatreo, 0) * kh.Thanhtien / nullif(kh.Soluong, 0), 0), 1)\n",
    "  end net_price,\n",
    "  case\n",
    "    when kh.Namtaichinh >= 2024 then kh.Thanhtien\n",
    "    else isnull(tl.TyleDTT_Giatreo, 0) * kh.Thanhtien\n",
    "  end net_amount,\n",
    "  case\n",
    "    when kh.Namtaichinh >= 2024 then round(coalesce(kh.lng / nullif(kh.Thanhtien, 0), 0), 4)\n",
    "    else round(coalesce(isnull(tl.TyleLNG_Giatreo, 0) * kh.Thanhtien / nullif(kh.Soluong, 0), 0), 4)\n",
    "  end gross_profit_margin,\n",
    "  case\n",
    "    when kh.Namtaichinh >= 2024 then kh.lng\n",
    "    else isnull(tl.TyleLNG_Giatreo, 0) * kh.Thanhtien\n",
    "  end gross_profit\n",
    "from Banhang.dbo.Kehoachbanhang kh\n",
    "  left join TTChung.dbo.Doituong_ePacific dt on kh.Makh =  dt.Ma\n",
    "  left join TTChung.dbo.Sanpham sp on kh.Mahang = sp.iD\n",
    "  left join TTChung.dbo.Phanvung_Log pv on dt.[Vung thi truong] = pv.Vungthitruong and sp.Nhom_hang_1 = pv.Nhomhang\n",
    "  left join TTChung.dbo.DMNhanvien nv on pv.Ma_nhan_vien = nv.Manhanvien\n",
    "  left join Banhang.dbo.TyleLNGKehoach tl on nv.MaChiNhanh = tl.Machinhanh and sp.Bravo_Manhomhang4 = tl.Nhomhang\n",
    "where kh.TH_KH = N'Kế hoạch đầu vụ'\n",
    "  and datefromparts(kh.Nam, kh.Thang, 1) between @from_date and @to_date\n",
    "order by kh.Nam, kh.Thang asc\n",
    "\"\"\"\n",
    "df_fact_sales_plan: pl.DataFrame = dx.ms.read_mssql(uri=shared.env.sm_uri, query=query_fact_sales_plan, params={\n",
    "  \"from_date\": from_date,\n",
    "  \"to_date\": to_date,\n",
    "})"
   ]
  },
  {
   "cell_type": "code",
   "execution_count": null,
   "id": "b72679d0",
   "metadata": {
    "tags": [
     "ignore"
    ]
   },
   "outputs": [],
   "source": [
    "# view\n",
    "df_fact_sales_plan.head(1)"
   ]
  },
  {
   "cell_type": "code",
   "execution_count": null,
   "id": "ad39fafd",
   "metadata": {
    "tags": [
     "ignore"
    ]
   },
   "outputs": [],
   "source": [
    "# save\n",
    "dx.df.write_data_file(df=df_fact_sales_plan, data_file=output_file_default())"
   ]
  }
 ],
 "metadata": {
  "kernelspec": {
   "display_name": "Python 3",
   "language": "python",
   "name": "python3"
  },
  "language_info": {
   "codemirror_mode": {
    "name": "ipython",
    "version": 3
   },
   "file_extension": ".py",
   "mimetype": "text/x-python",
   "name": "python",
   "nbconvert_exporter": "python",
   "pygments_lexer": "ipython3",
   "version": "3.11.9"
  }
 },
 "nbformat": 4,
 "nbformat_minor": 5
}
