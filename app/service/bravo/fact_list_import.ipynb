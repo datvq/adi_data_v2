{
 "cells": [
  {
   "cell_type": "markdown",
   "id": "ce530e5f",
   "metadata": {},
   "source": [
    "Phiếu thực nhập, chọn từ: NM, NK, TP, LR, PN\n",
    "Các phiếu D là điều chuyển, CP không có số lượng, TL là trả lại đã tính trong bán hàng\n"
   ]
  },
  {
   "cell_type": "code",
   "execution_count": null,
   "id": "8b6fefde",
   "metadata": {},
   "outputs": [],
   "source": [
    "# import\n",
    "import os\n",
    "import polars as pl\n",
    "import lib.dx as dx\n",
    "import app.shared as shared\n",
    "from datetime import date, datetime, timedelta\n",
    "\n",
    "dx.reload(shared)"
   ]
  },
  {
   "cell_type": "code",
   "execution_count": null,
   "id": "db18d4a2",
   "metadata": {},
   "outputs": [],
   "source": [
    "# default\n",
    "def output_file_default() -> str:\n",
    "  return os.path.join(shared.env.data_dir, \"staged\", \"bravo\", \"fact_list_import.parquet\")\n",
    "\n",
    "def from_date_default() -> str:\n",
    "  return dx.dt.resolve_datetime_string(\"begin_of_this_fiscal_year\")\n",
    "\n",
    "def to_date_default() -> str:\n",
    "  return dx.dt.resolve_datetime_string(\"tomorrow\")"
   ]
  },
  {
   "cell_type": "code",
   "execution_count": null,
   "id": "26f89caa",
   "metadata": {
    "tags": [
     "parameters"
    ]
   },
   "outputs": [],
   "source": [
    "# params\n",
    "from_date: str = from_date_default()\n",
    "to_date: str = to_date_default()"
   ]
  },
  {
   "cell_type": "code",
   "execution_count": null,
   "id": "31039097",
   "metadata": {
    "tags": [
     "return"
    ]
   },
   "outputs": [],
   "source": [
    "# return\n",
    "df_fact_list_import: pl.DataFrame"
   ]
  },
  {
   "cell_type": "code",
   "execution_count": null,
   "id": "d2e23077",
   "metadata": {},
   "outputs": [],
   "source": [
    "# transform\n",
    "query_fact_list_import = \"\"\"\n",
    "declare @from_date nvarchar(10) = convert(nchar(10), getdate(), 23);\n",
    "declare @to_date nvarchar(10) = convert(nchar(10), getdate(), 23);\n",
    "--[QUERY]--\n",
    "set nocount on;\n",
    "set ansi_warnings off;\n",
    "execute usp_Vct_BangKeChungTu\n",
    "  @_DocDate1 = @from_date,\n",
    "  @_DocDate2 = @to_date,\n",
    "  @_BranchCode = N'A01',\n",
    "  @_CurrencyCode0 = N'VND',\n",
    "  @_DocGroup = 1, -- 1:import, 2:export\n",
    "  @_RepType = 1,\n",
    "  @_CustomerId = '',\n",
    "  @_EmployeeCode = ''\n",
    "\"\"\"\n",
    "df_fact_list_import = dx.ms.read_mssql(uri=shared.env.bravo_uri, query=query_fact_list_import, params={\n",
    "  \"from_date\": from_date,\n",
    "  \"to_date\": to_date,\n",
    "})\n",
    "df_fact_list_import = dx.df.rename_columns(df_fact_list_import, selected_cols={\n",
    "  \"DocDate\": \"doc_date\",\n",
    "  \"DocCode\": \"doc_code\",\n",
    "  \"DocNo\": \"doc_no\",\n",
    "  \"Description\": \"description\",\n",
    "  \"TransCode\": \"transCode\",\n",
    "  \"ItemId\": \"item_id\",\n",
    "  \"ItemCode\": \"item_code\",\n",
    "  \"ItemLotCode\": \"category_code\",\n",
    "  \"WarehouseId\": \"warehouse_id\",\n",
    "  \"WarehouseCode\": \"warehouse_code\",\n",
    "  \"TaxCode\": \"tax_code\",\n",
    "  \"DebitAccount\": \"debit_account\",\n",
    "  \"CreditAccount\": \"credit_account\",\n",
    "  \"Quantity\": \"quantity\",\n",
    "  \"UnitCost\": \"price\",\n",
    "  \"Amount\": \"amount\",\n",
    "  \"OriginalUnitCost\": \"origin_price\",\n",
    "  \"OriginalAmount\": \"origin_amount\",\n",
    "  \"UnitPrice\": \"import_price\",\n",
    "  \"Amount2\": \"import_amount\",\n",
    "  \"OriginalUnitPrice\": \"origin_import_price\",\n",
    "  \"OriginalAmount2\": \"origin_import_amount\",\n",
    "})"
   ]
  },
  {
   "cell_type": "code",
   "execution_count": null,
   "id": "5918820b",
   "metadata": {
    "tags": [
     "ignore"
    ]
   },
   "outputs": [],
   "source": [
    "# view\n",
    "df_fact_list_import.head(1)"
   ]
  },
  {
   "cell_type": "code",
   "execution_count": null,
   "id": "7079a0c5",
   "metadata": {
    "tags": [
     "ignore"
    ]
   },
   "outputs": [],
   "source": [
    "# save\n",
    "dx.df.write_data_file(df=df_fact_list_import, data_file=output_file_default())"
   ]
  }
 ],
 "metadata": {
  "kernelspec": {
   "display_name": "Python 3",
   "language": "python",
   "name": "python3"
  },
  "language_info": {
   "codemirror_mode": {
    "name": "ipython",
    "version": 3
   },
   "file_extension": ".py",
   "mimetype": "text/x-python",
   "name": "python",
   "nbconvert_exporter": "python",
   "pygments_lexer": "ipython3",
   "version": "3.11.9"
  }
 },
 "nbformat": 4,
 "nbformat_minor": 5
}
