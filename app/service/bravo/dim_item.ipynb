{
 "cells": [
  {
   "cell_type": "code",
   "execution_count": null,
   "id": "5b9f6f9e",
   "metadata": {},
   "outputs": [],
   "source": [
    "# import\n",
    "import os\n",
    "import polars as pl\n",
    "import lib.dx as dx\n",
    "import app.shared as shared\n",
    "from datetime import date, datetime, timedelta\n",
    "\n",
    "dx.reload(shared)"
   ]
  },
  {
   "cell_type": "code",
   "execution_count": null,
   "id": "f94c3920",
   "metadata": {},
   "outputs": [],
   "source": [
    "# default\n",
    "def output_file_default() -> str:\n",
    "  return os.path.join(shared.env.data_dir, \"staged\", \"bravo\", \"dim_item.parquet\")"
   ]
  },
  {
   "cell_type": "code",
   "execution_count": null,
   "id": "b6b5c701",
   "metadata": {
    "tags": [
     "parameters"
    ]
   },
   "outputs": [],
   "source": [
    "# params"
   ]
  },
  {
   "cell_type": "code",
   "execution_count": null,
   "id": "39ee15df",
   "metadata": {
    "tags": [
     "return"
    ]
   },
   "outputs": [],
   "source": [
    "# return\n",
    "df_dim_item: pl.DataFrame"
   ]
  },
  {
   "cell_type": "code",
   "execution_count": null,
   "id": "e9c94664",
   "metadata": {},
   "outputs": [],
   "source": [
    "# transform\n",
    "query_dim_item = \"\"\"\n",
    "with\n",
    "ipacking as (select * from B20ItemUnit where IsUnitConvert = 1),\n",
    "iweight as (select * from B20ItemUnit where Unit = 'LitKgMet'),\n",
    "ispec as (select * from B20ItemUnit where Unit = 'PACKAGE')\n",
    "select\n",
    "  item.IsActive is_active,\n",
    "  item.Id item_id,\n",
    "  item.Code item_code,\n",
    "  item.Name item_name,\n",
    "  iparent.Code parent_code,\n",
    "  iparent.Name parent_name,\n",
    "  isize.Code size_code,\n",
    "  isize.Name size_name,\n",
    "  product.Code product_code,\n",
    "  product.Name product_name,\n",
    "  category.Code category_code,\n",
    "  category.Name category_name,\n",
    "  item.Unit unit,\n",
    "  round(1 / nullif(iweight.ConvertRate, 0), 4) net_weight,\n",
    "  nullif(ispec.ConvertRate, 0) bag_botle_weight,\n",
    "  nullif(ipacking.ConvertRate, 0) units_per_package,\n",
    "  ipacking.Unit package_type,\n",
    "  item.Type2 item_type,\n",
    "  dateadd(hour, 7, item.CreatedAt) created_at,\n",
    "  dateadd(hour, 7, (select max(d) from (values\n",
    "    (iparent.ModifiedAt),\n",
    "    (isize.ModifiedAt),\n",
    "    (product.ModifiedAt),\n",
    "    (category.ModifiedAt),\n",
    "    (ipacking.ModifiedAt),\n",
    "    (iweight.ModifiedAt),\n",
    "    (ispec.ModifiedAt),\n",
    "    (item.ModifiedAt)\n",
    "  ) all_dates(d))) modified_at\n",
    "from B20Item item\n",
    "  left join B20Item iparent on item.ParentId = iparent.Id\n",
    "  left join B20ItemSize isize on item.ItemSizeCode = isize.Code\n",
    "  left join B20ItemGroup product on item.ItemGroupCode = product.Code\n",
    "  left join B20ItemCatg category on product.ItemCatgCode = category.Code\n",
    "  left join ipacking ipacking on item.Id = ipacking.ItemId\n",
    "  left join iweight iweight on item.Id = iweight.ItemId\n",
    "  left join ispec ispec on item.Id = ispec.ItemId\n",
    "where item.IsGroup = 0\n",
    "\"\"\"\n",
    "df_dim_item = dx.ms.read_mssql(uri=shared.env.bravo_uri, query=query_dim_item, params=None)"
   ]
  },
  {
   "cell_type": "code",
   "execution_count": null,
   "id": "c8a2ea08",
   "metadata": {
    "tags": [
     "ignore"
    ]
   },
   "outputs": [],
   "source": [
    "# view\n",
    "df_dim_item.head(1)"
   ]
  },
  {
   "cell_type": "code",
   "execution_count": null,
   "id": "582d285e",
   "metadata": {
    "tags": [
     "ignore"
    ]
   },
   "outputs": [],
   "source": [
    "# save\n",
    "dx.df.write_data_file(df=df_dim_item, data_file=output_file_default())"
   ]
  }
 ],
 "metadata": {
  "kernelspec": {
   "display_name": "Python 3",
   "language": "python",
   "name": "python3"
  },
  "language_info": {
   "codemirror_mode": {
    "name": "ipython",
    "version": 3
   },
   "file_extension": ".py",
   "mimetype": "text/x-python",
   "name": "python",
   "nbconvert_exporter": "python",
   "pygments_lexer": "ipython3",
   "version": "3.11.9"
  }
 },
 "nbformat": 4,
 "nbformat_minor": 5
}
