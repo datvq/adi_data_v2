{
 "cells": [
  {
   "cell_type": "code",
   "execution_count": null,
   "id": "41b4babb",
   "metadata": {},
   "outputs": [],
   "source": [
    "# import\n",
    "import os\n",
    "import polars as pl\n",
    "import lib.dx as dx\n",
    "import app.shared as shared\n",
    "from datetime import date, datetime, timedelta\n",
    "\n",
    "dx.reload(shared)"
   ]
  },
  {
   "cell_type": "code",
   "execution_count": null,
   "id": "37c7c515",
   "metadata": {},
   "outputs": [],
   "source": [
    "# default\n",
    "def output_file_default() -> str:\n",
    "  return os.path.join(shared.env.data_dir, \"staged\", \"bravo\", \"fact_ar_object.parquet\")\n",
    "\n",
    "def view_date_default() -> str:\n",
    "  return dx.dt.resolve_datetime_string(\"tomorrow\")"
   ]
  },
  {
   "cell_type": "code",
   "execution_count": null,
   "id": "373dd43f",
   "metadata": {
    "tags": [
     "parameters"
    ]
   },
   "outputs": [],
   "source": [
    "# params\n",
    "view_date: str = view_date_default()"
   ]
  },
  {
   "cell_type": "code",
   "execution_count": null,
   "id": "a57066a8",
   "metadata": {
    "tags": [
     "return"
    ]
   },
   "outputs": [],
   "source": [
    "# return\n",
    "df_fact_ar_object: pl.DataFrame"
   ]
  },
  {
   "cell_type": "code",
   "execution_count": null,
   "id": "e6fa8f00",
   "metadata": {},
   "outputs": [],
   "source": [
    "# transform\n",
    "query_fact_ar_object = \"\"\"\n",
    "declare @view_date nvarchar(10) = convert(nchar(10), getdate(), 23);\n",
    "--[QUERY]--\n",
    "set nocount on;\n",
    "set ansi_warnings off;\n",
    "execute usp_Kcd_SoTongHopCongNo\n",
    "  @_DocDate1 = @view_date, \n",
    "  @_DocDate2 = @view_date,\n",
    "  @_Account = '131', \n",
    "  @_BranchCode = 'A01', \n",
    "  @_CurrencyCode0 = 'VND'\n",
    "\"\"\"\n",
    "df_fact_ar_object: pl.DataFrame = dx.ms.read_mssql(uri=shared.env.bravo_uri, query=query_fact_ar_object, params={\n",
    "  \"view_date\": view_date,\n",
    "})\n",
    "df_fact_ar_object = df_fact_ar_object.with_columns(\n",
    "  pl.lit(view_date).cast(pl.Date).alias(\"ViewDate\"),\n",
    "  (pl.col(\"DebitBal2\") - pl.col(\"CreditBal2\")).alias(\"CloseBal\"),\n",
    ")\n",
    "df_fact_ar_object = df_fact_ar_object.filter(\n",
    "  (pl.col(\"CustomerCode\").is_not_null())\n",
    "    & (pl.col(\"CloseBal\") != 0)\n",
    ")\n",
    "df_fact_ar_object = dx.df.rename_columns(df_fact_ar_object, selected_cols={\n",
    "  \"ViewDate\": \"view_date\",\n",
    "  \"CustomerId\": \"customer_id\",\n",
    "  \"CustomerCode\": \"customer_code\",\n",
    "  \"CustomerName\": \"customer_name\",\n",
    "  \"AreaCodeOfCus\": \"customer_branch_code\",\n",
    "  \"AreaNameOfCus\": \"customer_branch_name\",\n",
    "  \"CloseBal\": \"close_amount\",\n",
    "})"
   ]
  },
  {
   "cell_type": "code",
   "execution_count": null,
   "id": "3f6e0b73",
   "metadata": {
    "tags": [
     "ignore"
    ]
   },
   "outputs": [],
   "source": [
    "# view\n",
    "df_fact_ar_object.head(1)"
   ]
  },
  {
   "cell_type": "code",
   "execution_count": null,
   "id": "ad39fafd",
   "metadata": {
    "tags": [
     "ignore"
    ]
   },
   "outputs": [],
   "source": [
    "# save\n",
    "dx.df.write_data_file(df=df_fact_ar_object, data_file=output_file_default())"
   ]
  }
 ],
 "metadata": {
  "kernelspec": {
   "display_name": "Python 3",
   "language": "python",
   "name": "python3"
  },
  "language_info": {
   "codemirror_mode": {
    "name": "ipython",
    "version": 3
   },
   "file_extension": ".py",
   "mimetype": "text/x-python",
   "name": "python",
   "nbconvert_exporter": "python",
   "pygments_lexer": "ipython3",
   "version": "3.11.9"
  }
 },
 "nbformat": 4,
 "nbformat_minor": 5
}
