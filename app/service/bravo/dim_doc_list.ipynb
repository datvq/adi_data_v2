{
 "cells": [
  {
   "cell_type": "code",
   "execution_count": null,
   "id": "5b9f6f9e",
   "metadata": {},
   "outputs": [],
   "source": [
    "# import\n",
    "import os\n",
    "import polars as pl\n",
    "import lib.dx as dx\n",
    "import app.shared as shared\n",
    "from datetime import date, datetime, timedelta\n",
    "\n",
    "dx.reload(shared)"
   ]
  },
  {
   "cell_type": "code",
   "execution_count": null,
   "id": "7069567d",
   "metadata": {},
   "outputs": [],
   "source": [
    "# default\n",
    "def output_file_default() -> str:\n",
    "  return os.path.join(shared.env.data_dir, \"staged\", \"bravo\", \"dim_doc_list.parquet\")"
   ]
  },
  {
   "cell_type": "code",
   "execution_count": null,
   "id": "b6b5c701",
   "metadata": {
    "tags": [
     "parameters"
    ]
   },
   "outputs": [],
   "source": [
    "# params"
   ]
  },
  {
   "cell_type": "code",
   "execution_count": null,
   "id": "bf730a43",
   "metadata": {
    "tags": [
     "return"
    ]
   },
   "outputs": [],
   "source": [
    "# return\n",
    "df_dim_doc_list: pl.DataFrame"
   ]
  },
  {
   "cell_type": "code",
   "execution_count": null,
   "id": "e9c94664",
   "metadata": {},
   "outputs": [],
   "source": [
    "# transform\n",
    "query_dim_branch = \"\"\"\n",
    "select\n",
    "  dmct.IsActive is_active,\n",
    "  dmct.DocNoFormatStyle doc_no_format,\n",
    "  dmct.Ma_Ct doc_code,\n",
    "  dmct.Ten_Ct doc_name,\n",
    "  dmct.Ten_Ct_English doc_name_en,\n",
    "  dmct.TransTypeCode trans_type_code,\n",
    "  trans_type.Name trans_type_name,\n",
    "  dmct.KeyColumnName key_name,\n",
    "  dmct.TableHeader header_table,\n",
    "  dmct.Ct0_TableName detail_table,\n",
    "  dmct.TableDetail relate_tables,\n",
    "  dmct.Stt_Ntxt use_fifo,\n",
    "  dmct.UsingEmployeeCode use_EmployeeCode,\n",
    "  dmct.UsingDeptId use_DeptId,\n",
    "  dmct.UsingCustomerId use_CustomerId,\n",
    "  dmct.UsingExpenseCatgId use_ExpenseCatgId,\n",
    "  dmct.UsingProductId use_ProductId,\n",
    "  dmct.UsingBizDocId_C1 use_BizDocId_C1,\n",
    "  dmct.UsingBizDocId_C2 use_BizDocId_C2,\n",
    "  dmct.UsingBizDocId_LC use_BizDocId_LC,\n",
    "  dmct.UsingBizDocId_PO use_BizDocId_PO,\n",
    "  dmct.UsingBizDocId_SO use_BizDocId_SO,\n",
    "  dmct.UsingStatsDocId_WO use_StatsDocId_WO,\n",
    "  dmct.UsingWarehouseId use_WarehouseId,\n",
    "  dmct.UsingTransCode use_TransCode,\n",
    "  dmct.UsingAccount use_Account,\n",
    "  dmct.UsingCrspAccount use_CrspAccount,\n",
    "  dmct.UsingItemLotCode use_ItemLotCode,\n",
    "  dmct.UsingRemitInfo use_RemitInfo,\n",
    "  dmct.UsingWorkProcessCode use_WorkProcessCode,\n",
    "  dmct.UsingCostCentreCode use_CostCentreCode,\n",
    "  dmct.UsingUniformNormId use_UniformNormId,\n",
    "  dmct.UsingJobCode use_JobCode\n",
    "from B00DmCt dmct\n",
    "  left join B00TransType trans_type on trans_type.Code = dmct.TransTypeCode\n",
    "\"\"\"\n",
    "df_dim_doc_list = dx.ms.read_mssql(uri=shared.env.bravo_uri, query=query_dim_branch, params=None)"
   ]
  },
  {
   "cell_type": "code",
   "execution_count": null,
   "id": "1dc52b41",
   "metadata": {
    "tags": [
     "ignore"
    ]
   },
   "outputs": [],
   "source": [
    "# view\n",
    "df_dim_doc_list.head(1)"
   ]
  },
  {
   "cell_type": "code",
   "execution_count": null,
   "id": "582d285e",
   "metadata": {
    "tags": [
     "ignore"
    ]
   },
   "outputs": [],
   "source": [
    "# save\n",
    "dx.df.write_data_file(df=df_dim_doc_list, data_file=output_file_default())"
   ]
  }
 ],
 "metadata": {
  "kernelspec": {
   "display_name": "Python 3",
   "language": "python",
   "name": "python3"
  },
  "language_info": {
   "codemirror_mode": {
    "name": "ipython",
    "version": 3
   },
   "file_extension": ".py",
   "mimetype": "text/x-python",
   "name": "python",
   "nbconvert_exporter": "python",
   "pygments_lexer": "ipython3",
   "version": "3.11.9"
  }
 },
 "nbformat": 4,
 "nbformat_minor": 5
}
