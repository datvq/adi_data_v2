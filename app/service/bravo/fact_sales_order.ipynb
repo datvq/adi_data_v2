{
 "cells": [
  {
   "cell_type": "code",
   "execution_count": null,
   "id": "8b6fefde",
   "metadata": {},
   "outputs": [],
   "source": [
    "# import\n",
    "import os\n",
    "import polars as pl\n",
    "import lib.dx as dx\n",
    "import app.shared as shared\n",
    "from datetime import date, datetime, timedelta\n",
    "\n",
    "dx.reload(shared)"
   ]
  },
  {
   "cell_type": "code",
   "execution_count": null,
   "id": "db18d4a2",
   "metadata": {},
   "outputs": [],
   "source": [
    "# default\n",
    "def output_file_default() -> str:\n",
    "  return os.path.join(shared.env.data_dir, \"staged\", \"bravo\", \"fact_sales_order.parquet\")\n",
    "\n",
    "def from_date_default() -> str:\n",
    "  return \"2021-10-01\"\n",
    "\n",
    "def to_date_default() -> str:\n",
    "  return dx.dt.resolve_datetime_string(\"tomorrow\")"
   ]
  },
  {
   "cell_type": "code",
   "execution_count": null,
   "id": "26f89caa",
   "metadata": {
    "tags": [
     "parameters"
    ]
   },
   "outputs": [],
   "source": [
    "# params\n",
    "from_date: str = from_date_default()\n",
    "to_date: str = to_date_default()"
   ]
  },
  {
   "cell_type": "code",
   "execution_count": null,
   "id": "31039097",
   "metadata": {
    "tags": [
     "return"
    ]
   },
   "outputs": [],
   "source": [
    "# return\n",
    "df_fact_sales_order: pl.DataFrame"
   ]
  },
  {
   "cell_type": "code",
   "execution_count": null,
   "id": "d2e23077",
   "metadata": {},
   "outputs": [],
   "source": [
    "# transform\n",
    "query_fact_sales_order = f\"\"\"\n",
    "declare @from_date nvarchar(10) = convert(nchar(10), getdate(), 23);\n",
    "declare @to_date nvarchar(10) = convert(nchar(10), getdate(), 23);\n",
    "--[QUERY]--\n",
    "select\n",
    "  header.IsActive is_active,\n",
    "  header.DocCode doc_code,\n",
    "  header.DocDate doc_date,\n",
    "  header.DocNo doc_no,\n",
    "  header.TransCode trans_code,\n",
    "  header.DocStatus doc_status,\n",
    "  header.DueDate due_days,\n",
    "  header.Description description,\n",
    "  header.AreaCode branch_code,\n",
    "  header.ReasonForCanceled reason_for_canceled,\n",
    "  concat(customer.Code, '_', header.ItemCatgCode) manage_code,\n",
    "  customer.Code customer_code,\n",
    "  header.ItemCatgCode category_code,\n",
    "  header.FromApp order_from_app,\n",
    "  header.CurrencyCode currency_code,\n",
    "  header.ExchangeRate exchange_rate,\n",
    "  header.PortOfLoading port_of_loading,\n",
    "  header.EmployeeCode employee_code,\n",
    "  header.DocCodePromotion doc_code_promotion,\n",
    "  promotion.DocNo doc_no_promotion,\n",
    "  item.Code item_code,\n",
    "  detail.Quantity quantity,\n",
    "  header.IsDirectPayment is_direct_payment,\n",
    "  detail.IsGiftItem is_gift_item,\n",
    "  detail.SalesForC2 sale_for_c2,\n",
    "  detail.Remark detail_note,\n",
    "  header.IdDMS id_dms,\n",
    "  header.DocNoOfDMS doc_no_dms,\n",
    "  header.DMSCreatedAt created_at_dms,\n",
    "  header.CreatedAt created_at,\n",
    "  header.ModifiedAt modified_at\n",
    "from B30BizDocDetailSO detail\n",
    "  left join B30BizDoc header on header.BizDocId = detail.BizDocId\n",
    "  left join B20Customer customer on header.CustomerId = customer.Id\n",
    "  left join B20Item item on detail.ItemId = item.Id\n",
    "  left join vPromotion promotion on header.Stt_Promotion = promotion.Stt\n",
    "where header.IsActive = 1\n",
    "  and header.DocStatus < 9\n",
    "  and header.BranchCode = 'A01'\n",
    "  and header.DocCode = 'SO'\n",
    "  and header.DocDate between @from_date and @to_date\n",
    "\"\"\"\n",
    "df_fact_sales_order = dx.ms.read_mssql(uri=shared.env.bravo_uri, query=query_fact_sales_order, params={\n",
    "  \"from_date\": from_date,\n",
    "  \"to_date\": to_date,\n",
    "})"
   ]
  },
  {
   "cell_type": "code",
   "execution_count": null,
   "id": "aa60a5a2",
   "metadata": {
    "tags": [
     "ignore"
    ]
   },
   "outputs": [],
   "source": [
    "# view\n",
    "df_fact_sales_order.head(1)"
   ]
  },
  {
   "cell_type": "code",
   "execution_count": null,
   "id": "7079a0c5",
   "metadata": {
    "tags": [
     "ignore"
    ]
   },
   "outputs": [],
   "source": [
    "# save\n",
    "dx.df.write_data_file(df=df_fact_sales_order, data_file=output_file_default())"
   ]
  }
 ],
 "metadata": {
  "kernelspec": {
   "display_name": "Python 3",
   "language": "python",
   "name": "python3"
  },
  "language_info": {
   "codemirror_mode": {
    "name": "ipython",
    "version": 3
   },
   "file_extension": ".py",
   "mimetype": "text/x-python",
   "name": "python",
   "nbconvert_exporter": "python",
   "pygments_lexer": "ipython3",
   "version": "3.11.9"
  }
 },
 "nbformat": 4,
 "nbformat_minor": 5
}
