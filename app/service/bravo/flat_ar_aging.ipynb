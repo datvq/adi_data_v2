{
 "cells": [
  {
   "cell_type": "code",
   "execution_count": null,
   "id": "20fa90f6",
   "metadata": {},
   "outputs": [],
   "source": [
    "# import\n",
    "import os\n",
    "import polars as pl\n",
    "import lib.dx as dx\n",
    "import app.shared as shared\n",
    "from datetime import date, datetime, timedelta\n",
    "\n",
    "dx.reload(shared)"
   ]
  },
  {
   "cell_type": "code",
   "execution_count": null,
   "id": "1df55ce7",
   "metadata": {},
   "outputs": [],
   "source": [
    "# default\n",
    "def output_file_default() -> str:\n",
    "  return os.path.join(shared.env.data_dir, \"staged\", \"bravo\", \"flat_ar_aging.parquet\")\n",
    "\n",
    "def df_fact_ar_aging_default() -> str:\n",
    "  data_file = os.path.join(shared.env.data_dir, \"staged\", \"bravo\", \"fact_ar_aging.parquet\")\n",
    "  return dx.df.read_data_file(data_file)\n",
    "\n",
    "def df_dim_date_default() -> str:\n",
    "  data_file = os.path.join(shared.env.data_dir, \"staged\", \"bravo\", \"dim_date.parquet\")\n",
    "  return dx.df.read_data_file(data_file)\n",
    "\n",
    "def df_dim_branch_default() -> str:\n",
    "  data_file = os.path.join(shared.env.data_dir, \"staged\", \"bravo\", \"dim_branch.parquet\")\n",
    "  return dx.df.read_data_file(data_file)\n",
    "\n",
    "def df_dim_manage_default() -> str:\n",
    "  data_file = os.path.join(shared.env.data_dir, \"staged\", \"bravo\", \"dim_manage.parquet\")\n",
    "  return dx.df.read_data_file(data_file)\n",
    "\n",
    "def df_dim_customer_default() -> str:\n",
    "  data_file = os.path.join(shared.env.data_dir, \"staged\", \"bravo\", \"dim_customer.parquet\")\n",
    "  return dx.df.read_data_file(data_file)\n",
    "\n",
    "def df_dim_category_default() -> str:\n",
    "  data_file = os.path.join(shared.env.data_dir, \"staged\", \"bravo\", \"dim_category.parquet\")\n",
    "  return dx.df.read_data_file(data_file)\n",
    "\n",
    "def df_dim_debt_type_default() -> str:\n",
    "  data_file = os.path.join(shared.env.data_dir, \"staged\", \"bravo\", \"dim_debt_type.parquet\")\n",
    "  return dx.df.read_data_file(data_file)"
   ]
  },
  {
   "cell_type": "code",
   "execution_count": null,
   "id": "2cbe0ef7",
   "metadata": {
    "tags": [
     "parameters"
    ]
   },
   "outputs": [],
   "source": [
    "# params\n",
    "df_fact_ar_aging: pl.DataFrame = df_fact_ar_aging_default()\n",
    "df_dim_date: pl.DataFrame = df_dim_date_default()\n",
    "df_dim_branch: pl.DataFrame = df_dim_branch_default()\n",
    "df_dim_manage: pl.DataFrame = df_dim_manage_default()\n",
    "df_dim_customer: pl.DataFrame = df_dim_customer_default()\n",
    "df_dim_category: pl.DataFrame = df_dim_category_default()\n",
    "df_dim_debt_type: pl.DataFrame = df_dim_debt_type_default()"
   ]
  },
  {
   "cell_type": "code",
   "execution_count": null,
   "id": "56ab447b",
   "metadata": {
    "tags": [
     "return"
    ]
   },
   "outputs": [],
   "source": [
    "# return\n",
    "df_flat_ar_aging: pl.DataFrame"
   ]
  },
  {
   "cell_type": "code",
   "execution_count": null,
   "id": "b14e2781",
   "metadata": {},
   "outputs": [],
   "source": [
    "# context\n",
    "ctx_dwh: pl.SQLContext = pl.SQLContext()\n",
    "\n",
    "ctx_dwh.register(\"fact_ar_aging\", df_fact_ar_aging)\n",
    "ctx_dwh.register(\"dim_date\", df_dim_date)\n",
    "ctx_dwh.register(\"dim_branch\", df_dim_branch)\n",
    "ctx_dwh.register(\"dim_manage\", df_dim_manage)\n",
    "ctx_dwh.register(\"dim_customer\", df_dim_customer)\n",
    "ctx_dwh.register(\"dim_category\", df_dim_category)\n",
    "ctx_dwh.register(\"dim_debt_type\", df_dim_debt_type)\n",
    "\n",
    "ctx_dwh.tables()"
   ]
  },
  {
   "cell_type": "code",
   "execution_count": null,
   "id": "8be128d0",
   "metadata": {},
   "outputs": [],
   "source": [
    "# transform\n",
    "query_flat_ar_aging = \"\"\"\n",
    "select\n",
    "  fact_ar_aging.view_date view_date,\n",
    "  dim_date.fiscal_year fiscal_year,\n",
    "  dim_date.fiscal_year_index fiscal_year_index,\n",
    "  dim_date.fiscal_quarter fiscal_quarter,\n",
    "  dim_date.fiscal_quarter_index fiscal_quarter_index,\n",
    "  dim_date.fiscal_month fiscal_month,\n",
    "  dim_date.fiscal_month_index fiscal_month_index,\n",
    "  dim_date.year year,\n",
    "  dim_date.year_index year_index,\n",
    "  dim_date.quarter quarter,\n",
    "  dim_date.quarter_index quarter_index,\n",
    "  dim_date.month month,\n",
    "  dim_date.month_index month_index,\n",
    "  dim_date.day day,\n",
    "  dim_date.day_index day_index,\n",
    "  dim_date.week week,\n",
    "  dim_date.week_index week_index,\n",
    "  dim_date.weekday weekday,\n",
    "  dim_date.weekday_index weekday_index,\n",
    "  dim_date.yyqq yyqq,\n",
    "  dim_date.yymm yymm,\n",
    "\n",
    "  fact_ar_aging.doc_date doc_date,\n",
    "  fact_ar_aging.doc_code doc_code,\n",
    "  fact_ar_aging.doc_no doc_no,\n",
    "\n",
    "  fact_ar_aging.due_days due_days,\n",
    "  fact_ar_aging.due_date due_date,\n",
    "\n",
    "  fact_ar_aging.doc_branch_code doc_branch_code,\n",
    "  dim_branch.branch_name doc_branch_name,\n",
    "\n",
    "  fact_ar_aging.manage_code manage_code,\n",
    "  dim_manage.saleman_code saleman_code,\n",
    "  dim_manage.saleman_name saleman_name,\n",
    "  dim_manage.saleman_department_code saleman_department_code,\n",
    "  dim_manage.saleman_department_name saleman_department_name,\n",
    "  dim_manage.superior_code superior_code,\n",
    "  dim_manage.superior_name superior_name,\n",
    "  dim_manage.superior_department_code superior_department_code,\n",
    "  dim_manage.superior_department_name superior_department_name,\n",
    "  dim_manage.saleman_branch_code saleman_branch_code,\n",
    "  dim_manage.saleman_branch_name saleman_branch_name,\n",
    "\n",
    "  fact_ar_aging.customer_code customer_code,\n",
    "  dim_customer.customer_name customer_name,\n",
    "  dim_customer.latitude latitude,\n",
    "  dim_customer.longitude longitude,\n",
    "  dim_customer.province_name province_name,\n",
    "  dim_customer.district_name district_name,\n",
    "  dim_customer.commune_name commune_name,\n",
    "  dim_customer.customer_branch_code customer_branch_code,\n",
    "  dim_customer.customer_branch_name customer_branch_name,\n",
    "\n",
    "  fact_ar_aging.category_code category_code,\n",
    "  dim_category.category_name category_name,\n",
    "\n",
    "  fact_ar_aging.is_direct_payment is_direct_payment,\n",
    "  fact_ar_aging.promotion_type promotion_type,\n",
    "  fact_ar_aging.promotion_applied promotion_applied,\n",
    "\n",
    "  fact_ar_aging.invoice_amount invoice_amount,\n",
    "  fact_ar_aging.paid_amount paid_amount,\n",
    "  fact_ar_aging.remain_amount remain_amount,\n",
    "  fact_ar_aging.over_due_days over_due_days,\n",
    "\n",
    "  fact_ar_aging.debt_type_code debt_type_code,\n",
    "  dim_debt_type.debt_type_name debt_type_name,\n",
    "  dim_debt_type.debt_group_code debt_group_code,\n",
    "  dim_debt_type.debt_group_name debt_group_name,\n",
    "\n",
    "from fact_ar_aging fact_ar_aging\n",
    "  left join dim_date dim_date on fact_ar_aging.view_date = dim_date.date\n",
    "  left join dim_branch dim_branch on fact_ar_aging.doc_branch_code = dim_branch.branch_code\n",
    "  left join dim_manage dim_manage on fact_ar_aging.manage_code = dim_manage.manage_code\n",
    "  left join dim_customer dim_customer on fact_ar_aging.customer_code = dim_customer.customer_code\n",
    "  left join dim_category dim_category on fact_ar_aging.category_code = dim_category.category_code\n",
    "  left join dim_debt_type dim_debt_type on fact_ar_aging.debt_type_code = dim_debt_type.debt_type_code\n",
    "\"\"\"\n",
    "df_flat_ar_aging = ctx_dwh.execute(query=query_flat_ar_aging, eager=True)"
   ]
  },
  {
   "cell_type": "code",
   "execution_count": null,
   "id": "800609cf",
   "metadata": {
    "tags": [
     "ignore"
    ]
   },
   "outputs": [],
   "source": [
    "# view\n",
    "df_flat_ar_aging.head(1)"
   ]
  },
  {
   "cell_type": "code",
   "execution_count": null,
   "id": "bdccc4d7",
   "metadata": {
    "tags": [
     "ignore"
    ]
   },
   "outputs": [],
   "source": [
    "# save\n",
    "dx.df.write_data_file(df=df_flat_ar_aging, data_file=output_file_default())"
   ]
  }
 ],
 "metadata": {
  "kernelspec": {
   "display_name": "Python 3",
   "language": "python",
   "name": "python3"
  },
  "language_info": {
   "codemirror_mode": {
    "name": "ipython",
    "version": 3
   },
   "file_extension": ".py",
   "mimetype": "text/x-python",
   "name": "python",
   "nbconvert_exporter": "python",
   "pygments_lexer": "ipython3",
   "version": "3.11.9"
  }
 },
 "nbformat": 4,
 "nbformat_minor": 5
}
