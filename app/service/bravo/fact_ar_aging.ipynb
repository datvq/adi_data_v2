{
 "cells": [
  {
   "cell_type": "code",
   "execution_count": null,
   "id": "41b4babb",
   "metadata": {},
   "outputs": [],
   "source": [
    "# import\n",
    "import os\n",
    "import polars as pl\n",
    "import lib.dx as dx\n",
    "import app.shared as shared\n",
    "from datetime import date, datetime, timedelta\n",
    "\n",
    "dx.reload(shared)"
   ]
  },
  {
   "cell_type": "code",
   "execution_count": null,
   "id": "37c7c515",
   "metadata": {},
   "outputs": [],
   "source": [
    "# default\n",
    "def output_file_default() -> str:\n",
    "  return os.path.join(shared.env.data_dir, \"staged\", \"bravo\", \"fact_ar_aging.parquet\")\n",
    "\n",
    "def view_date_default() -> str:\n",
    "  return dx.dt.resolve_datetime_string(\"tomorrow\")\n",
    "\n",
    "def df_fact_ar_object_default() -> str:\n",
    "  data_file = os.path.join(shared.env.data_dir, \"staged\", \"bravo\", \"fact_ar_object.parquet\")\n",
    "  return dx.df.read_data_file(data_file)"
   ]
  },
  {
   "cell_type": "code",
   "execution_count": null,
   "id": "373dd43f",
   "metadata": {
    "tags": [
     "parameters"
    ]
   },
   "outputs": [],
   "source": [
    "# params\n",
    "view_date: str = view_date_default()\n",
    "df_fact_ar_object: pl.DataFrame = df_fact_ar_object_default()"
   ]
  },
  {
   "cell_type": "code",
   "execution_count": null,
   "id": "a57066a8",
   "metadata": {
    "tags": [
     "return"
    ]
   },
   "outputs": [],
   "source": [
    "# return\n",
    "df_fact_ar_aging: pl.DataFrame"
   ]
  },
  {
   "cell_type": "code",
   "execution_count": null,
   "id": "e6fa8f00",
   "metadata": {},
   "outputs": [],
   "source": [
    "# transform\n",
    "query_fact_ar_aging = \"\"\"\n",
    "declare @view_date nvarchar(10) = convert(nchar(10), getdate(), 23);\n",
    "--[QUERY]--\n",
    "set nocount on;\n",
    "set ansi_warnings off;\n",
    "execute usp_Kcd_AgingReport\n",
    "  @_DocDate1 = @view_date,\n",
    "  @_DocDate2 = @view_date,\n",
    "  @_Account = '131',\n",
    "  @_Period = 30,\n",
    "  @_RepType = 1,\n",
    "  @_IsPrepaymentInclude = 1,\n",
    "  @_BranchCode = 'A01',\n",
    "  @_CurrencyCode0 = 'VND'\n",
    "\"\"\"\n",
    "df_fact_ar_aging: pl.DataFrame = dx.ms.read_mssql(uri=shared.env.bravo_uri, query=query_fact_ar_aging, params={\n",
    "  \"view_date\": view_date,\n",
    "})\n",
    "df_fact_ar_aging = df_fact_ar_aging.filter(pl.col(\"DocNo\") != \"\")\n",
    "df_fact_ar_aging = df_fact_ar_aging.with_columns(\n",
    "  pl.lit(view_date).cast(pl.Date).alias(\"ViewDate\"),\n",
    "  (pl.col(\"CustomerCode\").cast(pl.String) + \"_\" + pl.col(\"ItemCatgCode\")).alias(\"ManageCode\"),\n",
    "  pl.col(\"IsDirectPayment\").cast(pl.Boolean).alias(\"IsDirectPayment\"),\n",
    "  pl.when(pl.col(\"CloseBal\") <= 0).then(pl.lit(\"D01\"))\n",
    "    .when(pl.col(\"OverDue\") < -30).then(pl.lit(\"D02\"))\n",
    "    .when(pl.col(\"OverDue\") < -10).then(pl.lit(\"D03\"))\n",
    "    .when(pl.col(\"OverDue\") < 1).then(pl.lit(\"D04\"))\n",
    "    .when(pl.col(\"OverDue\") < 31).then(pl.lit(\"D05\"))\n",
    "    .when(pl.col(\"OverDue\") < 91).then(pl.lit(\"D06\"))\n",
    "    .when(pl.col(\"OverDue\") < 181).then(pl.lit(\"D07\"))\n",
    "    .when(pl.col(\"OverDue\") < 361).then(pl.lit(\"D08\"))\n",
    "    .when(pl.col(\"OverDue\") < 721).then(pl.lit(\"D09\"))\n",
    "    .when(pl.col(\"OverDue\") >= 721).then(pl.lit(\"D10\"))\n",
    "    .otherwise(pl.lit(\"D00\"))\n",
    "    .alias(\"DebtTypeCode\"),\n",
    ")\n",
    "df_fact_ar_aging = dx.df.rename_columns(df_fact_ar_aging, selected_cols={\n",
    "  \"ViewDate\": \"view_date\",\n",
    "  \"DocDate\": \"doc_date\",\n",
    "  \"DocCode\": \"doc_code\",\n",
    "  \"DocNo\": \"doc_no\",\n",
    "  \"DueDate\": \"due_days\",\n",
    "  \"DateDue\": \"due_date\",\n",
    "  \"AreaCode\": \"doc_branch_code\",\n",
    "  \"ManageCode\": \"manage_code\",\n",
    "  \"CustomerCode\": \"customer_code\",\n",
    "  \"ItemCatgCode\": \"category_code\",\n",
    "  \"IsDirectPayment\": \"is_direct_payment\",\n",
    "  \"DocCodePromotion\": \"promotion_type\",\n",
    "  \"DocNoPromotion\": \"promotion_applied\",\n",
    "  \"DueAmount\": \"invoice_amount\",\n",
    "  \"PaidAmount\": \"paid_amount\",\n",
    "  \"CloseBal\": \"remain_amount\",\n",
    "  \"OverDue\": \"over_due_days\",\n",
    "  \"DebtTypeCode\": \"debt_type_code\",\n",
    "})\n",
    "\n",
    "# Diff amount\n",
    "view_date_aging = df_fact_ar_aging.select(pl.col(\"view_date\").first()).item()\n",
    "view_date_object = df_fact_ar_object.select(pl.col(\"view_date\").first()).item()\n",
    "if view_date_aging != view_date_object:\n",
    "  raise ValueError(f\"view_date on fact_ar_aging is different from fact_ar_object\")\n",
    "\n",
    "df_diff = df_fact_ar_object.select([\"customer_code\", \"close_amount\"]).join(\n",
    "  df_fact_ar_aging.group_by(\"customer_code\").agg(pl.col(\"remain_amount\").sum()),\n",
    "  on=[\"customer_code\"],\n",
    "  how=\"full\",\n",
    "  suffix=\"_\",\n",
    "  coalesce=True,\n",
    ")\n",
    "df_diff = df_diff.with_columns(\n",
    "  pl.col(\"close_amount\").replace([None], 0),\n",
    "  pl.col(\"remain_amount\").replace([None], 0),\n",
    ")\n",
    "df_diff = df_diff.with_columns(\n",
    "  (pl.col(\"close_amount\") - pl.col(\"remain_amount\")).alias(\"diff_amount\")\n",
    ")\n",
    "df_diff = df_diff.drop([\"close_amount\", \"remain_amount\"])\n",
    "df_diff = df_diff.rename({\"diff_amount\": \"remain_amount\"})\n",
    "df_diff = df_diff.filter(pl.col(\"remain_amount\") != 0)\n",
    "df_diff = df_diff.with_columns(\n",
    "  pl.lit(view_date_object).cast(pl.Date).alias(\"doc_date\"),\n",
    "  pl.lit(\"D00\").alias(\"debt_type_code\"),\n",
    "  pl.lit(\"CHU\").alias(\"category_code\"),\n",
    "  (pl.col(\"customer_code\").cast(pl.String) + \"_CHU\").alias(\"manage_code\"),\n",
    ")\n",
    "df_fact_ar_aging = pl.concat(\n",
    "  [df_fact_ar_aging, df_diff],\n",
    "  how=\"align\",\n",
    "  rechunk=True,\n",
    ")"
   ]
  },
  {
   "cell_type": "code",
   "execution_count": null,
   "id": "4b12baec",
   "metadata": {
    "tags": [
     "ignore"
    ]
   },
   "outputs": [],
   "source": [
    "# view\n",
    "df_fact_ar_aging.head(1)"
   ]
  },
  {
   "cell_type": "code",
   "execution_count": null,
   "id": "ad39fafd",
   "metadata": {
    "tags": [
     "ignore"
    ]
   },
   "outputs": [],
   "source": [
    "# save\n",
    "dx.df.write_data_file(df=df_fact_ar_aging, data_file=output_file_default())"
   ]
  }
 ],
 "metadata": {
  "kernelspec": {
   "display_name": "Python 3",
   "language": "python",
   "name": "python3"
  },
  "language_info": {
   "codemirror_mode": {
    "name": "ipython",
    "version": 3
   },
   "file_extension": ".py",
   "mimetype": "text/x-python",
   "name": "python",
   "nbconvert_exporter": "python",
   "pygments_lexer": "ipython3",
   "version": "3.11.9"
  }
 },
 "nbformat": 4,
 "nbformat_minor": 5
}
