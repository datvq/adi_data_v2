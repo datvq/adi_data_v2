{
 "cells": [
  {
   "cell_type": "code",
   "execution_count": null,
   "id": "a35b2201",
   "metadata": {},
   "outputs": [],
   "source": [
    "# import\n",
    "import os\n",
    "import calendar\n",
    "import requests\n",
    "import polars as pl\n",
    "import lib.dx as dx\n",
    "import lib.adi as adi\n",
    "import app.shared as shared\n",
    "from datetime import date, datetime, timedelta\n",
    "\n",
    "dx.reload(adi, shared)"
   ]
  },
  {
   "cell_type": "code",
   "execution_count": null,
   "id": "bca9a0aa",
   "metadata": {},
   "outputs": [],
   "source": [
    "# default\n",
    "def output_file_default() -> str:\n",
    "  return os.path.join(shared.env.data_dir, \"staged\", \"mobiwork\", \"fact_visit_plan.parquet\")\n",
    "\n",
    "def yymm_default() -> str:\n",
    "  return dx.dt.datetime_to_string(dx.dt.string_to_datetime(\"end_of_last_month\", f\"%Y-%m-%d\"), \"%y%m\")\n",
    "\n",
    "def max_visit_default() -> int:\n",
    "  return 4"
   ]
  },
  {
   "cell_type": "code",
   "execution_count": null,
   "id": "7b96e9d3",
   "metadata": {
    "tags": [
     "parameters"
    ]
   },
   "outputs": [],
   "source": [
    "# params\n",
    "yymm: str = yymm_default()\n",
    "max_visit: int = max_visit_default()"
   ]
  },
  {
   "cell_type": "code",
   "execution_count": null,
   "id": "3fd546c8",
   "metadata": {
    "tags": [
     "return"
    ]
   },
   "outputs": [],
   "source": [
    "# return\n",
    "pl_fact_visit_plan: pl.DataFrame"
   ]
  },
  {
   "cell_type": "code",
   "execution_count": null,
   "id": "f16612fe",
   "metadata": {},
   "outputs": [],
   "source": [
    "# fact_visit_plan\n",
    "from_date = dx.dt.string_to_datetime(yymm, \"%y%m\")\n",
    "to_date = dx.dt.end_of_month(from_date)\n",
    "url = f\"\"\"{\n",
    "  shared.env.mobiwork_visit_base_url\n",
    "}/VisitPlanReportDetails?orgid=57bea55c94dec72c0c5b4e0b&fromdate={\n",
    "  dx.dt.datetime_to_string(from_date, f\"%d/%m/%Y\")\n",
    "}&todate={\n",
    "  dx.dt.datetime_to_string(to_date, f\"%d/%m/%Y\")\n",
    "}&firstday={\n",
    "  dx.dt.datetime_to_string(dx.dt.begin_of_month(from_date, -3), f\"%d/%m/%Y\")\n",
    "}&lastday={\n",
    "  dx.dt.datetime_to_string(dx.dt.end_of_month(to_date, -1), f\"%d/%m/%Y\")\n",
    "}\"\"\"\n",
    "header = adi.mobiwork.create_mobiwork_header(\n",
    "  email=shared.env.mobiwork_email,\n",
    "  password=shared.env.mobiwork_password,\n",
    "  base_url=shared.env.mobiwork_login_base_url,\n",
    ")\n",
    "res: requests.models.Response = requests.get(url=url, headers=header)\n",
    "data: dict = res.json()\n",
    "\n",
    "dict_employees: dict = data.get(\"objU\")\n",
    "list_employees = [{\"email\": email, **info} for email, info in dict_employees.items()]\n",
    "df_employees_dms = pl.from_dicts(list_employees).drop([\"doibh_ten\"])\n",
    "df_employees_dms = df_employees_dms.rename({\n",
    "  \"email\": \"employee_email\",\n",
    "  \"nv_ma\": \"employee_code\",\n",
    "  \"nv_ten\": \"employee_name\",\n",
    "  \"doibh_ma\": \"branch_code\",\n",
    "})\n",
    "\n",
    "dict_customers: dict = data.get(\"objCus\")\n",
    "list_customers = [{**info} for id, info in dict_customers.items()]\n",
    "df_customers_dms = pl.from_dicts(list_customers)\n",
    "df_customers_dms = df_customers_dms.rename({\n",
    "  \"_id\": \"customer_uuid\",\n",
    "  \"ma_kh\": \"customer_code\",\n",
    "  \"ten_kh\": \"customer_name\",\n",
    "})\n",
    "\n",
    "list_data: list[dict] = data.get(\"result\")\n",
    "pl_fact_visit_plan = pl.from_dicts(list_data)\n",
    "pl_fact_visit_plan = pl_fact_visit_plan.with_columns(\n",
    "  pl.col(\"vt_cuoi\").replace([\"\"], None).str.strptime(pl.Date, f\"%d/%m/%Y\"),\n",
    ")\n",
    "pl_fact_visit_plan = pl_fact_visit_plan.rename({\n",
    "  \"so_luotkh\": \"visit_plan\",\n",
    "  \"so_luotvt\": \"visit_actual\",\n",
    "  \"vt_cuoi\": \"last_visit_date\",\n",
    "  \"nam\": \"year\",\n",
    "  \"thang\": \"month\",\n",
    "  \"e\": \"employee_email\",\n",
    "  \"c\": \"customer_uuid\",\n",
    "})\n",
    "\n",
    "pl_fact_visit_plan = pl_fact_visit_plan. \\\n",
    "  join(\n",
    "    df_customers_dms,\n",
    "    on=[\"customer_uuid\"],\n",
    "    how=\"left\",\n",
    "    suffix=\"_\",\n",
    "    coalesce=True,\n",
    "  ). \\\n",
    "  join(\n",
    "    df_employees_dms,\n",
    "    on=[\"employee_email\"],\n",
    "    how=\"left\",\n",
    "    suffix=\"_\",\n",
    "    coalesce=True,\n",
    "  )\n",
    "\n",
    "pl_fact_visit_plan = pl_fact_visit_plan.with_columns(\n",
    "  pl.lit(yymm).alias(\"yymm\"),\n",
    "  pl.min_horizontal(pl.max_horizontal(pl.col(\"visit_plan\"), max_visit), pl.col(\"visit_actual\")).alias(\"visit_actual_fixed\"),\n",
    ")\n",
    "\n",
    "pl_fact_visit_plan = dx.df.rename_columns(pl_fact_visit_plan, selected_cols={\n",
    "  \"yymm\": \"yymm\",\n",
    "  \"year\": \"year\",\n",
    "  \"month\": \"month\",\n",
    "  \"employee_code\": \"employee_code\",\n",
    "  \"employee_name\": \"employee_name\",\n",
    "  \"employee_email\": \"employee_email\",\n",
    "  \"customer_uuid\": \"customer_uuid\",\n",
    "  \"customer_code\": \"customer_code\",\n",
    "  \"customer_name\": \"customer_name\",\n",
    "  \"visit_plan\": \"visit_plan\",\n",
    "  \"visit_actual\": \"visit_actual\",\n",
    "  \"visit_actual_fixed\": \"visit_actual_fixed\",\n",
    "  \"last_visit_date\": \"last_visit_date\",\n",
    "})"
   ]
  },
  {
   "cell_type": "code",
   "execution_count": null,
   "id": "8fd0556e",
   "metadata": {
    "tags": [
     "ignore"
    ]
   },
   "outputs": [],
   "source": [
    "# view\n",
    "pl_fact_visit_plan.head(1)"
   ]
  },
  {
   "cell_type": "code",
   "execution_count": null,
   "id": "80f37455",
   "metadata": {
    "tags": [
     "ignore"
    ]
   },
   "outputs": [],
   "source": [
    "# save\n",
    "dx.df.write_data_file(df=pl_fact_visit_plan, data_file=output_file_default())"
   ]
  }
 ],
 "metadata": {
  "kernelspec": {
   "display_name": "Python 3",
   "language": "python",
   "name": "python3"
  },
  "language_info": {
   "codemirror_mode": {
    "name": "ipython",
    "version": 3
   },
   "file_extension": ".py",
   "mimetype": "text/x-python",
   "name": "python",
   "nbconvert_exporter": "python",
   "pygments_lexer": "ipython3",
   "version": "3.11.9"
  }
 },
 "nbformat": 4,
 "nbformat_minor": 5
}
