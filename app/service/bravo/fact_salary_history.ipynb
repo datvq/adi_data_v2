{
 "cells": [
  {
   "cell_type": "code",
   "execution_count": null,
   "id": "5b9f6f9e",
   "metadata": {},
   "outputs": [],
   "source": [
    "# import\n",
    "import os\n",
    "import polars as pl\n",
    "import lib.dx as dx\n",
    "import app.shared as shared\n",
    "from datetime import date, datetime, timedelta\n",
    "\n",
    "dx.reload(shared)"
   ]
  },
  {
   "cell_type": "code",
   "execution_count": null,
   "id": "7069567d",
   "metadata": {},
   "outputs": [],
   "source": [
    "# default\n",
    "def output_file_default() -> str:\n",
    "  return os.path.join(shared.env.data_dir, \"staged\", \"bravo\", \"fact_salary_history.parquet\")"
   ]
  },
  {
   "cell_type": "code",
   "execution_count": null,
   "id": "b6b5c701",
   "metadata": {
    "tags": [
     "parameters"
    ]
   },
   "outputs": [],
   "source": [
    "# params"
   ]
  },
  {
   "cell_type": "code",
   "execution_count": null,
   "id": "bf730a43",
   "metadata": {
    "tags": [
     "return"
    ]
   },
   "outputs": [],
   "source": [
    "# return\n",
    "df_fact_salary_history: pl.DataFrame"
   ]
  },
  {
   "cell_type": "code",
   "execution_count": null,
   "id": "e9c94664",
   "metadata": {},
   "outputs": [],
   "source": [
    "# transform\n",
    "query_fact_salary_history = \"\"\"\n",
    "select\n",
    "  header.DocCode doc_code,\n",
    "  header.DocDate doc_date,\n",
    "  header.DocNo doc_no,\n",
    "  header.DocStatus doc_status,\n",
    "  header.Loai_Ps entry_type,\n",
    "  header.ChangeType change_type,\n",
    "  header.[Description] description,\n",
    "  header.AreaCode branch_code,\n",
    "  branch.AreaName2 branch_name,\n",
    "  department.Code department_code,\n",
    "  department.Name department_name,\n",
    "  header.EmployeeCode employee_code,\n",
    "  employee.Name employee_name,\n",
    "  detail.EffectiveDate effective_date,\n",
    "  header.StartDate start_date,\n",
    "  header.EndDate end_date,\n",
    "  detail.ContractType contract_type,\n",
    "  detail.ContractDate contract_date,\n",
    "  detail.ContractNo contract_no,\n",
    "  detail.ProbationaryRate probationary_rate,\n",
    "  detail.ProbationaryStartDate start_date_probationary,\n",
    "  detail.ProbationaryEndDate end_date_probationary,\n",
    "  detail.BaseSalary base_salary,\n",
    "  detail.TotalAllowance total_allowance,\n",
    "  detail.SalariesInsurance salaries_insurance,\n",
    "  detail.InsuranceCoeff insurance_coeff,\n",
    "  detail.RegMinWage reg_min_wage,\n",
    "  dateadd(hour, 7, header.CreatedAt) created_at,\n",
    "  header.CreatedBy created_by,\n",
    "  dateadd(hour, 7, header.ModifiedAt) modified_at,\n",
    "  header.ModifiedBy modified_by\n",
    "from B30HrmDoc header\n",
    "  left join B30HrmLabourContract detail on header.HrmDocId = detail.HrmDocId\n",
    "  left join B20Area branch on header.AreaCode = branch.AreaCode\n",
    "  left join B20Employee employee on header.EmployeeCode = employee.Code\n",
    "  left join B20Dept department on employee.DeptId = department.Id\n",
    "where header.IsActive = 1\n",
    "  and header.DocCode in (N'LA', N'LD')\n",
    "\"\"\"\n",
    "df_fact_salary_history = dx.ms.read_mssql(uri=shared.env.bravo_uri, query=query_fact_salary_history, params=None)"
   ]
  },
  {
   "cell_type": "code",
   "execution_count": null,
   "id": "1dc52b41",
   "metadata": {
    "tags": [
     "ignore"
    ]
   },
   "outputs": [],
   "source": [
    "# view\n",
    "df_fact_salary_history.head(1)"
   ]
  },
  {
   "cell_type": "code",
   "execution_count": null,
   "id": "582d285e",
   "metadata": {
    "tags": [
     "ignore"
    ]
   },
   "outputs": [],
   "source": [
    "# save\n",
    "dx.df.write_data_file(df=df_fact_salary_history, data_file=output_file_default())"
   ]
  }
 ],
 "metadata": {
  "kernelspec": {
   "display_name": "Python 3",
   "language": "python",
   "name": "python3"
  },
  "language_info": {
   "codemirror_mode": {
    "name": "ipython",
    "version": 3
   },
   "file_extension": ".py",
   "mimetype": "text/x-python",
   "name": "python",
   "nbconvert_exporter": "python",
   "pygments_lexer": "ipython3",
   "version": "3.11.9"
  }
 },
 "nbformat": 4,
 "nbformat_minor": 5
}
