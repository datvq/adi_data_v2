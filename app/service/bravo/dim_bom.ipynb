{
 "cells": [
  {
   "cell_type": "code",
   "execution_count": null,
   "id": "5b9f6f9e",
   "metadata": {},
   "outputs": [],
   "source": [
    "# import\n",
    "import os\n",
    "import polars as pl\n",
    "import lib.dx as dx\n",
    "import app.shared as shared\n",
    "from datetime import date, datetime, timedelta\n",
    "\n",
    "dx.reload(shared)"
   ]
  },
  {
   "cell_type": "code",
   "execution_count": null,
   "id": "4f3a4c82",
   "metadata": {},
   "outputs": [],
   "source": [
    "# default\n",
    "def output_file_default() -> str:\n",
    "  return os.path.join(shared.env.data_dir, \"staged\", \"bravo\", \"dim_bom.parquet\")\n",
    "\n",
    "def view_date_default() -> str:\n",
    "  return dx.dt.resolve_datetime_string(\"tomorrow\")"
   ]
  },
  {
   "cell_type": "code",
   "execution_count": null,
   "id": "b6b5c701",
   "metadata": {
    "tags": [
     "parameters"
    ]
   },
   "outputs": [],
   "source": [
    "# params\n",
    "view_date: str = view_date_default()"
   ]
  },
  {
   "cell_type": "code",
   "execution_count": null,
   "id": "27744522",
   "metadata": {
    "tags": [
     "return"
    ]
   },
   "outputs": [],
   "source": [
    "# return\n",
    "df_dim_bom: pl.DataFrame"
   ]
  },
  {
   "cell_type": "code",
   "execution_count": null,
   "id": "e9c94664",
   "metadata": {},
   "outputs": [],
   "source": [
    "# transform\n",
    "query_dim_bom = \"\"\"\n",
    "declare @view_date nvarchar(10) = convert(nchar(10), getdate(), 23);\n",
    "--[QUERY]--\n",
    "select\n",
    "  header.WorkProcessCode process_code,\n",
    "  header.Id bom_id,\n",
    "  header.BOMType bom_type,\n",
    "  header.Version bom_version,\n",
    "  header.IsOriginal is_origin,\n",
    "  header.EffectiveDate effective_date,\n",
    "  header.FinishedDate finished_date,\n",
    "  item.Id item_id,\n",
    "  item.Code item_code,\n",
    "  detail.ItemId material_id,\n",
    "  material.Code material_code,\n",
    "  detail.Unit material_unit,\n",
    "  detail.IsMainItem is_main_material,\n",
    "  coalesce(detail.Quantity9 / nullif(detail.ProductQuantity, 0), 0) material_per_item,\n",
    "  coalesce(detail.ProductQuantity / nullif(detail.Quantity9, 0), 0) item_per_material,\n",
    "  detail.ScrapRate scrap_rate,\n",
    "  dateadd(hour, 7, detail.CreatedAt) created_at,\n",
    "  dateadd(hour, 7, (select max(d) from (values\n",
    "    (project.ModifiedAt),\n",
    "    (item_info.ModifiedAt),\n",
    "    (item.ModifiedAt),\n",
    "    (material.ModifiedAt),\n",
    "    (detail.ModifiedAt),\n",
    "    (header.ModifiedAt)\n",
    "  ) all_dates(d))) modified_at\n",
    "from B20BOM header\n",
    "  left join B20BOMDetail detail on detail.BOMId = header.Id\n",
    "  left join B20Product project on project.Id = header.ProductId\n",
    "  left join B20ItemInfo item_info on item_info.ProductId = project.Id\n",
    "  left join B20Item item on item.Id = item_info.ItemId\n",
    "  left join B20Item material on material.Id = detail.ItemId\n",
    "where header.IsActive = 1 and header.IsGroup = 0\n",
    "  and @view_date between isnull(header.EffectiveDate, @view_date) and isnull(header.FinishedDate, @view_date)\n",
    "\"\"\"\n",
    "df_dim_bom = dx.ms.read_mssql(uri=shared.env.bravo_uri, query=query_dim_bom, params={\n",
    "  \"view_date\": view_date,\n",
    "})"
   ]
  },
  {
   "cell_type": "code",
   "execution_count": null,
   "id": "0a64159b",
   "metadata": {
    "tags": [
     "ignore"
    ]
   },
   "outputs": [],
   "source": [
    "# view\n",
    "df_dim_bom.head(1)"
   ]
  },
  {
   "cell_type": "code",
   "execution_count": null,
   "id": "582d285e",
   "metadata": {
    "tags": [
     "ignore"
    ]
   },
   "outputs": [],
   "source": [
    "# save\n",
    "dx.df.write_data_file(df=df_dim_bom, data_file=output_file_default())"
   ]
  }
 ],
 "metadata": {
  "kernelspec": {
   "display_name": "Python 3",
   "language": "python",
   "name": "python3"
  },
  "language_info": {
   "codemirror_mode": {
    "name": "ipython",
    "version": 3
   },
   "file_extension": ".py",
   "mimetype": "text/x-python",
   "name": "python",
   "nbconvert_exporter": "python",
   "pygments_lexer": "ipython3",
   "version": "3.11.9"
  }
 },
 "nbformat": 4,
 "nbformat_minor": 5
}
