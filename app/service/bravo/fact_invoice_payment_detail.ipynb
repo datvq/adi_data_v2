{
 "cells": [
  {
   "cell_type": "code",
   "execution_count": null,
   "id": "8b6fefde",
   "metadata": {},
   "outputs": [],
   "source": [
    "# import\n",
    "import os\n",
    "import polars as pl\n",
    "import lib.dx as dx\n",
    "import app.shared as shared\n",
    "from datetime import date, datetime, timedelta\n",
    "\n",
    "dx.reload(shared)"
   ]
  },
  {
   "cell_type": "code",
   "execution_count": null,
   "id": "db18d4a2",
   "metadata": {},
   "outputs": [],
   "source": [
    "# default\n",
    "def output_file_default() -> str:\n",
    "  return os.path.join(shared.env.data_dir, \"staged\", \"bravo\", \"fact_invoice_payment_detail.parquet\")\n",
    "\n",
    "def from_date_default() -> str:\n",
    "  return dx.dt.resolve_datetime_string(\"begin_of_this_fiscal_year\")\n",
    "\n",
    "def to_date_default() -> str:\n",
    "  return dx.dt.resolve_datetime_string(\"tomorrow\")"
   ]
  },
  {
   "cell_type": "code",
   "execution_count": null,
   "id": "26f89caa",
   "metadata": {
    "tags": [
     "parameters"
    ]
   },
   "outputs": [],
   "source": [
    "# params\n",
    "from_date: str = from_date_default()\n",
    "to_date: str = to_date_default()"
   ]
  },
  {
   "cell_type": "code",
   "execution_count": null,
   "id": "31039097",
   "metadata": {
    "tags": [
     "return"
    ]
   },
   "outputs": [],
   "source": [
    "# return\n",
    "df_fact_invoice_payment_detail: pl.DataFrame"
   ]
  },
  {
   "cell_type": "code",
   "execution_count": null,
   "id": "d2e23077",
   "metadata": {},
   "outputs": [],
   "source": [
    "# transform\n",
    "query_fact_invoice_payment_detail = \"\"\"\n",
    "declare @from_date nvarchar(10) = '2024-05-01';\n",
    "declare @to_date nvarchar(10) = convert(nchar(10), getdate(), 23);\n",
    "--[QUERY]--\n",
    "set nocount on;\n",
    "set ansi_warnings off;\n",
    "execute usp_Kcd_ChiTietThanhToanHoaDonGiamTruCongNo\n",
    "  @_DocDate1 = @from_date,\n",
    "  @_DocDate2 = @to_date,\n",
    "  @_BranchCode = 'A01',\n",
    "  @_CustomerId = '',\n",
    "  @_EmployeeCode = ''\n",
    "\"\"\"\n",
    "df_fact_invoice_payment_detail = dx.ms.read_mssql(uri=shared.env.bravo_uri, query=query_fact_invoice_payment_detail, params={\n",
    "  \"from_date\": from_date,\n",
    "  \"to_date\": to_date,\n",
    "})\n",
    "df_fact_invoice_payment_detail = df_fact_invoice_payment_detail.with_columns(\n",
    "  (pl.col(\"CustomerCode\") + \"_\" + pl.col(\"ItemCatgCode\")).alias(\"ManageCode\"),\n",
    ")\n",
    "df_fact_invoice_payment_detail = dx.df.rename_columns(df_fact_invoice_payment_detail, selected_cols={\n",
    "  \"DocDate\": \"doc_date\",\n",
    "  \"DocNo_SourceDoc\": \"doc_code\",\n",
    "  \"Description\": \"description\",\n",
    "  \"AreaCode\": \"branch_code\",\n",
    "  \"CustomerId\": \"customer_id\",\n",
    "  \"CustomerId\": \"customer_code\",\n",
    "  \"ItemCatgCode\": \"category_code\",\n",
    "  \"DocCodePromotion\": \"promotion_type\",\n",
    "  \"DocNoPromotion\": \"promotion_applied\",\n",
    "  \"CreditAmount\": \"amount\",\n",
    "})"
   ]
  },
  {
   "cell_type": "code",
   "execution_count": null,
   "id": "5918820b",
   "metadata": {
    "tags": [
     "ignore"
    ]
   },
   "outputs": [],
   "source": [
    "# view\n",
    "df_fact_invoice_payment_detail.head(1)"
   ]
  },
  {
   "cell_type": "code",
   "execution_count": null,
   "id": "7079a0c5",
   "metadata": {
    "tags": [
     "ignore"
    ]
   },
   "outputs": [],
   "source": [
    "# save\n",
    "dx.df.write_data_file(df=df_fact_invoice_payment_detail, data_file=output_file_default())"
   ]
  }
 ],
 "metadata": {
  "kernelspec": {
   "display_name": "Python 3",
   "language": "python",
   "name": "python3"
  },
  "language_info": {
   "codemirror_mode": {
    "name": "ipython",
    "version": 3
   },
   "file_extension": ".py",
   "mimetype": "text/x-python",
   "name": "python",
   "nbconvert_exporter": "python",
   "pygments_lexer": "ipython3",
   "version": "3.11.9"
  }
 },
 "nbformat": 4,
 "nbformat_minor": 5
}
