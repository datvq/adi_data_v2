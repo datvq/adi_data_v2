{
 "cells": [
  {
   "cell_type": "code",
   "execution_count": null,
   "id": "5b9f6f9e",
   "metadata": {},
   "outputs": [],
   "source": [
    "# import\n",
    "import os\n",
    "import polars as pl\n",
    "import lib.dx as dx\n",
    "import app.shared as shared\n",
    "from datetime import date, datetime, timedelta\n",
    "\n",
    "dx.reload(shared)"
   ]
  },
  {
   "cell_type": "code",
   "execution_count": null,
   "id": "4f3a4c82",
   "metadata": {},
   "outputs": [],
   "source": [
    "# default\n",
    "def output_file_default() -> str:\n",
    "  return os.path.join(shared.env.data_dir, \"staged\", \"bravo\", \"dim_expense.parquet\")"
   ]
  },
  {
   "cell_type": "code",
   "execution_count": null,
   "id": "b6b5c701",
   "metadata": {
    "tags": [
     "parameters"
    ]
   },
   "outputs": [],
   "source": [
    "# params"
   ]
  },
  {
   "cell_type": "code",
   "execution_count": null,
   "id": "27744522",
   "metadata": {
    "tags": [
     "return"
    ]
   },
   "outputs": [],
   "source": [
    "# return\n",
    "df_dim_expense: pl.DataFrame"
   ]
  },
  {
   "cell_type": "code",
   "execution_count": null,
   "id": "e9c94664",
   "metadata": {},
   "outputs": [],
   "source": [
    "# transform\n",
    "query_dim_expense = \"\"\"\n",
    "select\n",
    "  expense.IsActive is_active,\n",
    "  expense.Id expense_id,\n",
    "  expense.Code expense_code,\n",
    "  expense.Name expense_name,\n",
    "  egroup.Code group_expense_code,\n",
    "  egroup.Name group_expense_name,\n",
    "  eroot.Code root_expense_code,\n",
    "  eroot.Name root_expense_name,\n",
    "  dateadd(hour, 7, expense.CreatedAt) created_at,\n",
    "  dateadd(hour, 7, (select max(d) from (values\n",
    "    (egroup.ModifiedAt),\n",
    "    (eroot.ModifiedAt),\n",
    "    (expense.ModifiedAt)\n",
    "  ) all_dates(d))) modified_at\n",
    "from B20ExpenseCatg expense\n",
    "  left join B20ExpenseCatg egroup on egroup.Id = expense.ParentId\n",
    "  left join B20ExpenseCatg eroot on eroot.Id = egroup.ParentId\n",
    "where expense.IsGroup = 0\n",
    "\"\"\"\n",
    "df_dim_expense = dx.ms.read_mssql(uri=shared.env.bravo_uri, query=query_dim_expense, params=None)"
   ]
  },
  {
   "cell_type": "code",
   "execution_count": null,
   "id": "0a64159b",
   "metadata": {
    "tags": [
     "ignore"
    ]
   },
   "outputs": [],
   "source": [
    "# view\n",
    "df_dim_expense.head(1)"
   ]
  },
  {
   "cell_type": "code",
   "execution_count": null,
   "id": "582d285e",
   "metadata": {
    "tags": [
     "ignore"
    ]
   },
   "outputs": [],
   "source": [
    "# save\n",
    "dx.df.write_data_file(df=df_dim_expense, data_file=output_file_default())"
   ]
  }
 ],
 "metadata": {
  "kernelspec": {
   "display_name": "Python 3",
   "language": "python",
   "name": "python3"
  },
  "language_info": {
   "codemirror_mode": {
    "name": "ipython",
    "version": 3
   },
   "file_extension": ".py",
   "mimetype": "text/x-python",
   "name": "python",
   "nbconvert_exporter": "python",
   "pygments_lexer": "ipython3",
   "version": "3.11.9"
  }
 },
 "nbformat": 4,
 "nbformat_minor": 5
}
