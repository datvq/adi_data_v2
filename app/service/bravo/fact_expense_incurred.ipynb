{
 "cells": [
  {
   "cell_type": "code",
   "execution_count": null,
   "id": "8b6fefde",
   "metadata": {},
   "outputs": [],
   "source": [
    "# import\n",
    "import os\n",
    "import polars as pl\n",
    "import lib.dx as dx\n",
    "import app.shared as shared\n",
    "from datetime import date, datetime, timedelta\n",
    "\n",
    "dx.reload(shared)"
   ]
  },
  {
   "cell_type": "code",
   "execution_count": null,
   "id": "db18d4a2",
   "metadata": {},
   "outputs": [],
   "source": [
    "# default\n",
    "def output_file_default() -> str:\n",
    "  return os.path.join(shared.env.data_dir, \"staged\", \"bravo\", \"fact_expense_incurred.parquet\")\n",
    "\n",
    "def from_date_default() -> str:\n",
    "  return dx.dt.resolve_datetime_string(\"begin_of_this_fiscal_year\")\n",
    "\n",
    "def to_date_default() -> str:\n",
    "  return dx.dt.resolve_datetime_string(\"tomorrow\")"
   ]
  },
  {
   "cell_type": "code",
   "execution_count": null,
   "id": "26f89caa",
   "metadata": {
    "tags": [
     "parameters"
    ]
   },
   "outputs": [],
   "source": [
    "# params\n",
    "from_date: str = from_date_default()\n",
    "to_date: str = to_date_default()"
   ]
  },
  {
   "cell_type": "code",
   "execution_count": null,
   "id": "31039097",
   "metadata": {
    "tags": [
     "return"
    ]
   },
   "outputs": [],
   "source": [
    "# return\n",
    "df_fact_expense_incurred: pl.DataFrame"
   ]
  },
  {
   "cell_type": "code",
   "execution_count": null,
   "id": "d2e23077",
   "metadata": {},
   "outputs": [],
   "source": [
    "# transform\n",
    "query_fact_expense_incurred = \"\"\"\n",
    "declare @from_date nvarchar(10) = '2025-05-01';\n",
    "declare @to_date nvarchar(10) = convert(nchar(10), getdate(), 23);\n",
    "--[QUERY]--\n",
    "with gl as (\n",
    "  select\n",
    "    gl.UniqueId uuid,\n",
    "    gl.DocDate doc_date,\n",
    "    gl.DocCode doc_code,\n",
    "    info.DocNo doc_no,\n",
    "    info.Description description,\n",
    "    case when right(gl.EntryNo, 1) = 'A' then 'N' else 'C' end entry_type,\n",
    "    left(gl.Account, 1) root_account_code,\n",
    "    left(gl.Account, 3) group_account_code,\n",
    "    gl.Account account_code,\n",
    "    debit_customer.Code customer_code,\n",
    "    gl.ItemCatgCode category_code,\n",
    "    case when right(gl.EntryNo, 1) = 'B' then 'N' else 'C' end entry_type_crsp,\n",
    "    left(gl.CrspAccount, 1) root_account_code_crsp,\n",
    "    left(gl.CrspAccount, 3) group_account_code_crsp,\n",
    "    gl.CrspAccount account_code_crsp,\n",
    "    credit_customer.Code customer_code_crsp,\n",
    "    gl.CrspItemCatgCode category_code_crsp,\n",
    "    gl.Amount amount,\n",
    "    gl.AreaCode branch_code,\n",
    "    department.Code department_code,\n",
    "    case when (gl.CreditAccount like '5151%' or gl.DebitAccount like '6356%') then 'CT22' else expense.Code end expense_code\n",
    "  from B30GeneralLedger gl\n",
    "    left join (\n",
    "      select Stt, DocCode, DocNo, Description from B30AccDoc union all\n",
    "      select Stt, DocCode, DocNo, Description from B30AccDocItemHdr union all\n",
    "      select Stt, DocCode, DocNo, Description from B30AccDocPurchaseHdr union all\n",
    "      select Stt, DocCode, DocNo, Description from B30AccDocSalesHdr\n",
    "    ) info on info.Stt = gl.Stt and info.DocCode = gl.DocCode\n",
    "    left join B20Customer debit_customer on debit_customer.Id = gl.CustomerId\n",
    "    left join B20Customer credit_customer on credit_customer.Id = gl.CrspCustomerId\n",
    "    left join B20ExpenseCatg expense on expense.Id = gl.ExpenseCatgId\n",
    "    left join B20Dept department on gl.DeptId = department.Id\n",
    "  where gl.IsActive = 1 and gl.BranchCode = 'A01' and gl.Amount <> 0\n",
    "    and gl.DocDate between @from_date and @to_date\n",
    "    and left(gl.Account, 3) in ('635', '641', '642', '811', '821')\n",
    "    and left(gl.CrspAccount, 3) <> '911'\n",
    ")\n",
    "(\n",
    "  select\n",
    "    'increase' incurred_type,\n",
    "    gl.doc_date doc_date,\n",
    "    gl.doc_code doc_code,\n",
    "    gl.doc_no doc_no,\n",
    "    gl.description description,\n",
    "    gl.root_account_code root_debit_account_code,\n",
    "    gl.group_account_code group_debit_account_code,\n",
    "    gl.account_code debit_account_code,\n",
    "    gl.root_account_code_crsp root_credit_account_code,\n",
    "    gl.group_account_code_crsp group_credit_account_code,\n",
    "    gl.account_code_crsp credit_account_code,\n",
    "    gl.branch_code branch_code,\n",
    "    gl.department_code department_code,\n",
    "    gl.expense_code expense_code,\n",
    "    gl.amount amount\n",
    "  from gl\n",
    "  where\n",
    "    gl.entry_type = 'N'\n",
    ")\n",
    "union all\n",
    "(\n",
    "  select\n",
    "    'decrease' incurred_type,\n",
    "    gl.doc_date doc_date,\n",
    "    gl.doc_code doc_code,\n",
    "    gl.doc_no doc_no,\n",
    "    gl.description description,\n",
    "    gl.root_account_code_crsp root_debit_account_code,\n",
    "    gl.group_account_code_crsp group_debit_account_code,\n",
    "    gl.account_code_crsp debit_account_code,\n",
    "    gl.root_account_code root_credit_account_code,\n",
    "    gl.group_account_code group_credit_account_code,\n",
    "    gl.account_code credit_account_code,\n",
    "    gl.branch_code branch_code,\n",
    "    gl.department_code department_code,\n",
    "    gl.expense_code expense_code,\n",
    "    -gl.amount amount\n",
    "  from gl\n",
    "  where\n",
    "    gl.entry_type = 'C'\n",
    ")\n",
    "\"\"\"\n",
    "df_fact_expense_incurred = dx.ms.read_mssql(uri=shared.env.bravo_uri, query=query_fact_expense_incurred, params={\n",
    "  \"from_date\": from_date,\n",
    "  \"to_date\": to_date,\n",
    "})"
   ]
  },
  {
   "cell_type": "code",
   "execution_count": null,
   "id": "5918820b",
   "metadata": {
    "tags": [
     "ignore"
    ]
   },
   "outputs": [],
   "source": [
    "# view\n",
    "df_fact_expense_incurred.head(1)"
   ]
  },
  {
   "cell_type": "code",
   "execution_count": null,
   "id": "7079a0c5",
   "metadata": {
    "tags": [
     "ignore"
    ]
   },
   "outputs": [],
   "source": [
    "# save\n",
    "dx.df.write_data_file(df=df_fact_expense_incurred, data_file=output_file_default())"
   ]
  }
 ],
 "metadata": {
  "kernelspec": {
   "display_name": "Python 3",
   "language": "python",
   "name": "python3"
  },
  "language_info": {
   "codemirror_mode": {
    "name": "ipython",
    "version": 3
   },
   "file_extension": ".py",
   "mimetype": "text/x-python",
   "name": "python",
   "nbconvert_exporter": "python",
   "pygments_lexer": "ipython3",
   "version": "3.11.9"
  }
 },
 "nbformat": 4,
 "nbformat_minor": 5
}
