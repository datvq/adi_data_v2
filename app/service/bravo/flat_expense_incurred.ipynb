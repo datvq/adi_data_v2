{
 "cells": [
  {
   "cell_type": "code",
   "execution_count": null,
   "id": "20fa90f6",
   "metadata": {},
   "outputs": [],
   "source": [
    "# import\n",
    "import os\n",
    "import polars as pl\n",
    "import lib.dx as dx\n",
    "import app.shared as shared\n",
    "from datetime import date, datetime, timedelta\n",
    "\n",
    "dx.reload(shared)"
   ]
  },
  {
   "cell_type": "code",
   "execution_count": null,
   "id": "1df55ce7",
   "metadata": {},
   "outputs": [],
   "source": [
    "# default\n",
    "def output_file_default() -> str:\n",
    "  return os.path.join(shared.env.data_dir, \"staged\", \"bravo\", \"flat_expense_incurred.parquet\")\n",
    "\n",
    "def df_fact_expense_incurred_default() -> str:\n",
    "  data_file = os.path.join(shared.env.data_dir, \"staged\", \"bravo\", \"fact_expense_incurred.parquet\")\n",
    "  return dx.df.read_data_file(data_file)\n",
    "\n",
    "def df_dim_date_default() -> str:\n",
    "  data_file = os.path.join(shared.env.data_dir, \"staged\", \"bravo\", \"dim_date.parquet\")\n",
    "  return dx.df.read_data_file(data_file)\n",
    "\n",
    "def df_dim_expense_default() -> str:\n",
    "  data_file = os.path.join(shared.env.data_dir, \"staged\", \"bravo\", \"dim_expense.parquet\")\n",
    "  return dx.df.read_data_file(data_file)\n",
    "\n",
    "def df_dim_branch_default() -> str:\n",
    "  data_file = os.path.join(shared.env.data_dir, \"staged\", \"bravo\", \"dim_branch.parquet\")\n",
    "  return dx.df.read_data_file(data_file)\n",
    "\n",
    "def df_dim_department_default() -> str:\n",
    "  data_file = os.path.join(shared.env.data_dir, \"staged\", \"bravo\", \"dim_department.parquet\")\n",
    "  return dx.df.read_data_file(data_file)"
   ]
  },
  {
   "cell_type": "code",
   "execution_count": null,
   "id": "2cbe0ef7",
   "metadata": {
    "tags": [
     "parameters"
    ]
   },
   "outputs": [],
   "source": [
    "# params\n",
    "df_fact_expense_incurred: pl.DataFrame = df_fact_expense_incurred_default()\n",
    "df_dim_date: pl.DataFrame = df_dim_date_default()\n",
    "df_dim_expense: pl.DataFrame = df_dim_expense_default()\n",
    "df_dim_branch: pl.DataFrame = df_dim_branch_default()\n",
    "df_dim_department: pl.DataFrame = df_dim_department_default()"
   ]
  },
  {
   "cell_type": "code",
   "execution_count": null,
   "id": "db8bc2c7",
   "metadata": {
    "tags": [
     "return"
    ]
   },
   "outputs": [],
   "source": [
    "# return\n",
    "df_flat_expense_incurred: pl.DataFrame"
   ]
  },
  {
   "cell_type": "code",
   "execution_count": null,
   "id": "6adf96b1",
   "metadata": {},
   "outputs": [],
   "source": [
    "# context\n",
    "ctx_dwh: pl.SQLContext = pl.SQLContext()\n",
    "\n",
    "ctx_dwh.register(\"fact_expense_incurred\", df_fact_expense_incurred)\n",
    "ctx_dwh.register(\"dim_date\", df_dim_date)\n",
    "ctx_dwh.register(\"dim_expense\", df_dim_expense)\n",
    "ctx_dwh.register(\"dim_branch\", df_dim_branch)\n",
    "ctx_dwh.register(\"dim_department\", df_dim_department)\n",
    "\n",
    "ctx_dwh.tables()"
   ]
  },
  {
   "cell_type": "code",
   "execution_count": null,
   "id": "8be128d0",
   "metadata": {},
   "outputs": [],
   "source": [
    "# transform\n",
    "query_flat_expense_incurred = \"\"\"\n",
    "select\n",
    "  ei.incurred_type incurred_type,\n",
    "  ei.doc_date doc_date,\n",
    "\n",
    "  dim_date.fiscal_year fiscal_year,\n",
    "  dim_date.fiscal_year_index fiscal_year_index,\n",
    "  dim_date.fiscal_quarter fiscal_quarter,\n",
    "  dim_date.fiscal_quarter_index fiscal_quarter_index,\n",
    "  dim_date.fiscal_month fiscal_month,\n",
    "  dim_date.fiscal_month_index fiscal_month_index,\n",
    "  dim_date.year year,\n",
    "  dim_date.year_index year_index,\n",
    "  dim_date.quarter quarter,\n",
    "  dim_date.quarter_index quarter_index,\n",
    "  dim_date.month month,\n",
    "  dim_date.month_index month_index,\n",
    "  dim_date.day day,\n",
    "  dim_date.day_index day_index,\n",
    "  dim_date.week week,\n",
    "  dim_date.week_index week_index,\n",
    "  dim_date.weekday weekday,\n",
    "  dim_date.weekday_index weekday_index,\n",
    "  dim_date.yyqq yyqq,\n",
    "  dim_date.yymm yymm,\n",
    "\n",
    "  ei.doc_code doc_code,\n",
    "  ei.doc_no doc_no,\n",
    "  ei.description description,\n",
    "  \n",
    "  ei.root_debit_account_code root_debit_account_code,\n",
    "  ei.group_debit_account_code group_debit_account_code,\n",
    "  ei.debit_account_code debit_account_code,\n",
    "  ei.root_credit_account_code root_credit_account_code,\n",
    "  ei.group_credit_account_code group_credit_account_code,\n",
    "  ei.credit_account_code credit_account_code,\n",
    "  \n",
    "  ei.expense_code expense_code,\n",
    "  e.expense_name expense_name,\n",
    "  e.group_expense_code group_expense_code,\n",
    "  e.group_expense_name group_expense_name,\n",
    "  e.root_expense_code root_expense_code,\n",
    "  e.root_expense_name root_expense_name,\n",
    "  \n",
    "  ei.branch_code branch_code,\n",
    "  b.branch_name branch_name,\n",
    "  ei.department_code department_code,\n",
    "  d.department_name department_name,\n",
    "\n",
    "  ei.amount amount,\n",
    "\n",
    "from fact_expense_incurred ei\n",
    "  left join dim_date dim_date on sales_data.doc_date = dim_date.date\n",
    "  left join dim_expense e on ei.expense_code = e.expense_code\n",
    "  left join dim_branch b on ei.branch_code = b.branch_code\n",
    "  left join dim_department d on ei.department_code = d.department_code\n",
    "\"\"\"\n",
    "df_flat_expense_incurred = ctx_dwh.execute(query=query_flat_expense_incurred, eager=True)"
   ]
  },
  {
   "cell_type": "code",
   "execution_count": null,
   "id": "8db84a9f",
   "metadata": {
    "tags": [
     "ignore"
    ]
   },
   "outputs": [],
   "source": [
    "# view\n",
    "df_flat_expense_incurred.head(1)"
   ]
  },
  {
   "cell_type": "code",
   "execution_count": null,
   "id": "bdccc4d7",
   "metadata": {
    "tags": [
     "ignore"
    ]
   },
   "outputs": [],
   "source": [
    "# save\n",
    "dx.df.write_data_file(df=df_flat_expense_incurred, data_file=output_file_default())"
   ]
  }
 ],
 "metadata": {
  "kernelspec": {
   "display_name": "Python 3",
   "language": "python",
   "name": "python3"
  },
  "language_info": {
   "codemirror_mode": {
    "name": "ipython",
    "version": 3
   },
   "file_extension": ".py",
   "mimetype": "text/x-python",
   "name": "python",
   "nbconvert_exporter": "python",
   "pygments_lexer": "ipython3",
   "version": "3.11.9"
  }
 },
 "nbformat": 4,
 "nbformat_minor": 5
}
