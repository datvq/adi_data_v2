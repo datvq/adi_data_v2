{
 "cells": [
  {
   "cell_type": "code",
   "execution_count": null,
   "id": "5b9f6f9e",
   "metadata": {},
   "outputs": [],
   "source": [
    "# import\n",
    "import os\n",
    "import polars as pl\n",
    "import lib.dx as dx\n",
    "import app.shared as shared\n",
    "from datetime import date, datetime, timedelta\n",
    "\n",
    "dx.reload(shared)"
   ]
  },
  {
   "cell_type": "code",
   "execution_count": null,
   "id": "2f521bd4",
   "metadata": {},
   "outputs": [],
   "source": [
    "# default\n",
    "def output_file_default() -> str:\n",
    "  return os.path.join(shared.env.data_dir, \"staged\", \"bravo\", \"dim_debt_type.parquet\")"
   ]
  },
  {
   "cell_type": "code",
   "execution_count": null,
   "id": "b6b5c701",
   "metadata": {
    "tags": [
     "parameters"
    ]
   },
   "outputs": [],
   "source": [
    "# params"
   ]
  },
  {
   "cell_type": "code",
   "execution_count": null,
   "id": "567cd7a4",
   "metadata": {
    "tags": [
     "return"
    ]
   },
   "outputs": [],
   "source": [
    "# return\n",
    "df_dim_debt_type: pl.DataFrame"
   ]
  },
  {
   "cell_type": "code",
   "execution_count": null,
   "id": "e9c94664",
   "metadata": {},
   "outputs": [],
   "source": [
    "# generate\n",
    "df_dim_debt_type = pl.DataFrame({\n",
    "  \"debt_type_code\": [\"D00\", \"D01\", \"D02\", \"D03\", \"D04\", \"D05\", \"D06\", \"D07\", \"D08\", \"D09\", \"D10\"],\n",
    "  \"debt_type_name\": [\n",
    "    \"00:Lệch\",\n",
    "    \"01:Dư\",\n",
    "    \"02:ĐH >30\",\n",
    "    \"03:ĐH 11-30\",\n",
    "    \"04:ĐH 00-10\",\n",
    "    \"05:QH 01-30\",\n",
    "    \"06:QH 31-90\",\n",
    "    \"07:QH 91-6t\",\n",
    "    \"08:QH 6t-1n\",\n",
    "    \"09:QH 1n-2n\",\n",
    "    \"10:QH >2n\",\n",
    "  ],\n",
    "  \"debt_group_code\": [\"G00\", \"G01\", \"G02\", \"G02\", \"G02\", \"G03\", \"G03\", \"G04\", \"G04\", \"G05\", \"G06\"],\n",
    "  \"debt_group_name\": [\n",
    "    \"00:Lệch\",\n",
    "    \"01:Dư\",\n",
    "    \"02.Chưa ĐH\",\n",
    "    \"02.Chưa ĐH\",\n",
    "    \"02.Chưa ĐH\",\n",
    "    \"03:QH 01-90\",\n",
    "    \"03:QH 01-90\",\n",
    "    \"04:QH 90-1n\",\n",
    "    \"04:QH 90-1n\",\n",
    "    \"05:QH 1n-2n\",\n",
    "    \"06:QH >2n\",\n",
    "  ],\n",
    "})"
   ]
  },
  {
   "cell_type": "code",
   "execution_count": null,
   "id": "46d4d301",
   "metadata": {
    "tags": [
     "ignore"
    ]
   },
   "outputs": [],
   "source": [
    "# view\n",
    "df_dim_debt_type.head(1)"
   ]
  },
  {
   "cell_type": "code",
   "execution_count": null,
   "id": "582d285e",
   "metadata": {
    "tags": [
     "ignore"
    ]
   },
   "outputs": [],
   "source": [
    "# save\n",
    "dx.df.write_data_file(df=df_dim_debt_type, data_file=output_file_default())"
   ]
  }
 ],
 "metadata": {
  "kernelspec": {
   "display_name": "Python 3",
   "language": "python",
   "name": "python3"
  },
  "language_info": {
   "codemirror_mode": {
    "name": "ipython",
    "version": 3
   },
   "file_extension": ".py",
   "mimetype": "text/x-python",
   "name": "python",
   "nbconvert_exporter": "python",
   "pygments_lexer": "ipython3",
   "version": "3.11.9"
  }
 },
 "nbformat": 4,
 "nbformat_minor": 5
}
