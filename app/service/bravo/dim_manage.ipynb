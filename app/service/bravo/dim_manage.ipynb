{
 "cells": [
  {
   "cell_type": "code",
   "execution_count": null,
   "id": "5b9f6f9e",
   "metadata": {},
   "outputs": [],
   "source": [
    "# import\n",
    "import os\n",
    "import polars as pl\n",
    "import lib.dx as dx\n",
    "import app.shared as shared\n",
    "from datetime import date, datetime, timedelta\n",
    "\n",
    "dx.reload(shared)"
   ]
  },
  {
   "cell_type": "code",
   "execution_count": null,
   "id": "9b2c3b83",
   "metadata": {},
   "outputs": [],
   "source": [
    "# default\n",
    "def output_file_default() -> str:\n",
    "  return os.path.join(shared.env.data_dir, \"staged\", \"bravo\", \"dim_manage.parquet\")\n",
    "\n",
    "def view_date_default() -> str:\n",
    "  return dx.dt.resolve_datetime_string(\"tomorrow\")"
   ]
  },
  {
   "cell_type": "code",
   "execution_count": null,
   "id": "b6b5c701",
   "metadata": {
    "tags": [
     "parameters"
    ]
   },
   "outputs": [],
   "source": [
    "# params\n",
    "view_date: str = view_date_default()"
   ]
  },
  {
   "cell_type": "code",
   "execution_count": null,
   "id": "39182603",
   "metadata": {
    "tags": [
     "return"
    ]
   },
   "outputs": [],
   "source": [
    "# return\n",
    "df_dim_manage: pl.DataFrame"
   ]
  },
  {
   "cell_type": "code",
   "execution_count": null,
   "id": "235750ca",
   "metadata": {},
   "outputs": [],
   "source": [
    "# transform\n",
    "query_dim_manage = f\"\"\"\n",
    "declare @view_date nvarchar(10) = convert(nchar(10), getdate(), 23);\n",
    "--[QUERY]--\n",
    "with\n",
    "rc as (\n",
    "  select\n",
    "    CustomerId customer_id,\n",
    "    RegionCode region_code,\n",
    "    StartDate assigned_date\n",
    "  from (\n",
    "    select\n",
    "      CustomerId,\n",
    "      RegionCode,\n",
    "      StartDate,\n",
    "      row_number() over(\n",
    "        partition by\n",
    "          CustomerId\n",
    "        order by StartDate desc\n",
    "      ) TopN\n",
    "    from B20RegionCustomer\n",
    "    where StartDate <= @view_date\n",
    "  ) rc\n",
    "  where rc.TopN = 1\n",
    "),\n",
    "rs as (\n",
    "  select\n",
    "    rs.RegionCode region_code,\n",
    "    rs.ItemCatgCode category_code,\n",
    "    rs.EmployeeCode saleman_code,\n",
    "    rs.StartDate assigned_date\n",
    "  from (\n",
    "    select\n",
    "      RegionCode,\n",
    "      ItemCatgCode,\n",
    "      EmployeeCode,\n",
    "      StartDate,\n",
    "      row_number() over(\n",
    "        partition by\n",
    "          RegionCode,\n",
    "          ItemCatgCode\n",
    "        order by StartDate desc\n",
    "      ) TopN\n",
    "    from B20EmployeeCustomer\n",
    "    where StartDate <= @view_date\n",
    "  ) rs\n",
    "  where rs.TopN = 1\n",
    "),\n",
    "es as (\n",
    "  select\n",
    "    es.EmployeeCode saleman_code,\n",
    "    es.EmpSuperiorCode superior_code,\n",
    "    es.StartDate assigned_date\n",
    "  from (\n",
    "    select\n",
    "      EmployeeCode,\n",
    "      EmpSuperiorCode,\n",
    "      StartDate,\n",
    "      row_number() over(\n",
    "        partition by\n",
    "          EmployeeCode\n",
    "        order by StartDate desc\n",
    "      ) TopN\n",
    "    from B20EmployeeSuperior\n",
    "    where StartDate <= @view_date\n",
    "  ) es\n",
    "  where es.TopN = 1\n",
    ")\n",
    "select\n",
    "  concat(customer.Code, '_', rs.category_code) manage_code,\n",
    "  customer.Code customer_code,\n",
    "  customer.Name customer_name,\n",
    "  rs.category_code category_code,\n",
    "  category.Name category_name,\n",
    "  rc.region_code region_code,\n",
    "  region.Name region_name,\n",
    "  rs.saleman_code saleman_code,\n",
    "  saleman.Name saleman_name,\n",
    "  saleman_department.Code saleman_department_code,\n",
    "  saleman_department.Name saleman_department_name,\n",
    "  saleman.AreaCode saleman_branch_code,\n",
    "  saleman_branch.AreaName2 saleman_branch_name,\n",
    "  es.superior_code superior_code,\n",
    "  superior.Name superior_name,\n",
    "  superior_department.Code superior_department_code,\n",
    "  superior_department.Name superior_department_name,\n",
    "  superior.AreaCode superior_branch_code,\n",
    "  superior_branch.AreaName2 superior_branch_name,\n",
    "  rc.assigned_date assigned_date_region_for_customer,\n",
    "  rs.assigned_date assigned_date_saleman_for_region,\n",
    "  es.assigned_date assigned_date_superior_for_saleman\n",
    "from rc\n",
    "  full join rs on rc.region_code = rs.region_code\n",
    "  left join es on rs.saleman_code = es.saleman_code\n",
    "  left join B20Customer customer on rc.customer_id = customer.Id\n",
    "  left join B20ItemCatg category on rs.category_code = category.Code\n",
    "  left join B20Region region on rs.region_code = region.Code\n",
    "  left join B20Employee saleman on rs.saleman_code = saleman.Code\n",
    "  left join B20Dept saleman_department on saleman.DeptId = saleman_department.Id\n",
    "  left join B20Area saleman_branch on saleman.AreaCode = saleman_branch.AreaCode\n",
    "  left join B20Employee superior on es.superior_code = superior.Code\n",
    "  left join B20Dept superior_department on superior.DeptId = superior_department.Id\n",
    "  left join B20Area superior_branch on superior.AreaCode = superior_branch.AreaCode\n",
    "where rc.customer_id is not null\n",
    "\"\"\"\n",
    "df_dim_manage = dx.ms.read_mssql(uri=shared.env.bravo_uri, query=query_dim_manage, params={\n",
    "  \"view_date\": view_date,\n",
    "})"
   ]
  },
  {
   "cell_type": "code",
   "execution_count": null,
   "id": "f64be8dc",
   "metadata": {
    "tags": [
     "ignore"
    ]
   },
   "outputs": [],
   "source": [
    "# view\n",
    "df_dim_manage.head(1)"
   ]
  },
  {
   "cell_type": "code",
   "execution_count": null,
   "id": "582d285e",
   "metadata": {
    "tags": [
     "ignore"
    ]
   },
   "outputs": [],
   "source": [
    "# save\n",
    "dx.df.write_data_file(df=df_dim_manage, data_file=output_file_default())"
   ]
  }
 ],
 "metadata": {
  "kernelspec": {
   "display_name": "Python 3",
   "language": "python",
   "name": "python3"
  },
  "language_info": {
   "codemirror_mode": {
    "name": "ipython",
    "version": 3
   },
   "file_extension": ".py",
   "mimetype": "text/x-python",
   "name": "python",
   "nbconvert_exporter": "python",
   "pygments_lexer": "ipython3",
   "version": "3.11.9"
  }
 },
 "nbformat": 4,
 "nbformat_minor": 5
}
