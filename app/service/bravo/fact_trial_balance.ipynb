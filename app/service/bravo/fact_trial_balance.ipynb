{
 "cells": [
  {
   "cell_type": "code",
   "execution_count": null,
   "id": "8b6fefde",
   "metadata": {},
   "outputs": [],
   "source": [
    "# import\n",
    "import os\n",
    "import polars as pl\n",
    "import lib.dx as dx\n",
    "import app.shared as shared\n",
    "from datetime import date, datetime, timedelta\n",
    "\n",
    "dx.reload(shared)"
   ]
  },
  {
   "cell_type": "code",
   "execution_count": null,
   "id": "db18d4a2",
   "metadata": {},
   "outputs": [],
   "source": [
    "# default\n",
    "def output_file_default() -> str:\n",
    "  return os.path.join(shared.env.data_dir, \"staged\", \"bravo\", \"fact_trial_balance.parquet\")\n",
    "\n",
    "def from_date_default() -> str:\n",
    "  return dx.dt.resolve_datetime_string(\"begin_of_this_fiscal_year\")\n",
    "\n",
    "def to_date_default() -> str:\n",
    "  return dx.dt.resolve_datetime_string(\"tomorrow\")"
   ]
  },
  {
   "cell_type": "code",
   "execution_count": null,
   "id": "26f89caa",
   "metadata": {
    "tags": [
     "parameters"
    ]
   },
   "outputs": [],
   "source": [
    "# params\n",
    "from_date: str = from_date_default()\n",
    "to_date: str = to_date_default()"
   ]
  },
  {
   "cell_type": "code",
   "execution_count": null,
   "id": "31039097",
   "metadata": {
    "tags": [
     "return"
    ]
   },
   "outputs": [],
   "source": [
    "# return\n",
    "df_fact_trial_balance: pl.DataFrame"
   ]
  },
  {
   "cell_type": "code",
   "execution_count": null,
   "id": "d2e23077",
   "metadata": {},
   "outputs": [],
   "source": [
    "# transform\n",
    "query_fact_trial_balance = \"\"\"\n",
    "declare @from_date nvarchar(10) = convert(nchar(10), getdate(), 23);\n",
    "declare @to_date nvarchar(10) = convert(nchar(10), getdate(), 23);\n",
    "--[QUERY]--\n",
    "select\n",
    "  -- tb.branch_code branch_code, -- branch\n",
    "  -- tb.category_code category_code, -- category\n",
    "  -- tb.customer_id customer_id, -- customer\n",
    "  left(tb.account_code, 1) root_account_code,\n",
    "  left(tb.account_code, 3) group_account_code,\n",
    "  tb.account_code account_code,\n",
    "  sum(tb.open_debit_amount) open_debit_amount,\n",
    "  sum(tb.open_credit_amount) open_credit_amount,\n",
    "  sum(tb.incurred_debit_amount) incurred_debit_amount,\n",
    "  sum(tb.incurred_credit_amount) incurred_credit_amount,\n",
    "  sum(tb.close_debit_amount) close_debit_amount,\n",
    "  sum(tb.CloseCreditAmount) close_credit_amount\n",
    "from (\n",
    "  select\n",
    "    -- tb.branch_code branch_code, -- branch\n",
    "    -- tb.category_code category_code, -- category\n",
    "    -- tb.customer_id customer_id, -- customer\n",
    "    tb.account_code account_code,\n",
    "    tb.open_debit_amount open_debit_amount,\n",
    "    tb.open_credit_amount open_credit_amount,\n",
    "    tb.incurred_debit_amount incurred_debit_amount,\n",
    "    tb.incurred_credit_amount incurred_credit_amount,\n",
    "    tb.close_debit_amount close_debit_amount,\n",
    "    tb.close_credit_amount CloseCreditAmount\n",
    "  from (\n",
    "    select\n",
    "      -- tb.branch_code branch_code, -- branch\n",
    "      -- tb.category_code category_code, -- category\n",
    "      -- tb.customer_id customer_id, -- customer\n",
    "      tb.account_code account_code,\n",
    "      case\n",
    "        when sum(tb.open_debit_amount) > sum(tb.open_credit_amount)\n",
    "          then sum(tb.open_debit_amount) - sum(tb.open_credit_amount)\n",
    "        else 0\n",
    "      end open_debit_amount,\n",
    "      case\n",
    "        when sum(tb.open_credit_amount) > sum(tb.open_debit_amount)\n",
    "          then sum(tb.open_credit_amount) - sum(tb.open_debit_amount)\n",
    "        else 0\n",
    "      end open_credit_amount,\n",
    "      sum(tb.incurred_debit_amount) incurred_debit_amount,\n",
    "      sum(tb.incurred_credit_amount) incurred_credit_amount,\n",
    "      case\n",
    "        when sum(tb.open_debit_amount) + sum(tb.incurred_debit_amount) > sum(tb.open_credit_amount) + sum(tb.incurred_credit_amount)\n",
    "          then sum(tb.open_debit_amount) + sum(tb.incurred_debit_amount) - sum(tb.open_credit_amount) - sum(tb.incurred_credit_amount)\n",
    "        else 0\n",
    "      end close_debit_amount,\n",
    "      case\n",
    "        when sum(tb.open_credit_amount) + sum(tb.incurred_credit_amount) > sum(tb.open_debit_amount) + sum(tb.incurred_debit_amount)\n",
    "          then sum(tb.open_credit_amount) + sum(tb.incurred_credit_amount) - sum(tb.open_debit_amount) - sum(tb.incurred_debit_amount)\n",
    "        else 0\n",
    "      end close_credit_amount\n",
    "    from\n",
    "      ((\n",
    "        select\n",
    "          -- ob.AreaCode branch_code, -- branch\n",
    "          -- ob.ItemCatgCode category_code,  -- category\n",
    "          -- ob.CustomerId customer_id, -- customer\n",
    "          ob.Account account_code,\n",
    "          ob.DebitAmount open_debit_amount,\n",
    "          ob.CreditAmount open_credit_amount,\n",
    "          0 incurred_debit_amount,\n",
    "          0 incurred_credit_amount\n",
    "        from B30OpenBalance ob\n",
    "        where ob.IsActive = 1 and ob.IsGroup = 0 and ob.BranchCode = 'A01'\n",
    "          and ob.Year = year(@from_date)\n",
    "      ) union all (\n",
    "        select\n",
    "          -- gl.AreaCode branch_code, -- branch\n",
    "          -- gl.ItemCatgCode category_code, -- category\n",
    "          -- gl.CustomerId customer_id, -- customer\n",
    "          gl.Account account_code,\n",
    "          gl.DebitAmount open_debit_amount,\n",
    "          gl.CreditAmount open_credit_amount,\n",
    "          0 incurred_debit_amount,\n",
    "          0 incurred_credit_amount\n",
    "        from B30GeneralLedger gl\n",
    "        where gl.IsActive = 1 and gl.BranchCode = 'A01'\n",
    "          and gl.DocDate between datefromparts(year(@from_date), 1, 1) and dateadd(day, -1, @from_date)\n",
    "      ) union all (\n",
    "        select\n",
    "          -- gl.AreaCode branch_code, -- branch\n",
    "          -- gl.ItemCatgCode category_code, -- category\n",
    "          -- gl.CustomerId customer_id, -- customer\n",
    "          gl.Account account_code,\n",
    "          0 open_debit_amount,\n",
    "          0 open_credit_amount,\n",
    "          gl.DebitAmount incurred_debit_amount,\n",
    "          gl.CreditAmount incurred_credit_amount\n",
    "        from B30GeneralLedger gl\n",
    "        where gl.IsActive = 1 and gl.BranchCode = 'A01'\n",
    "          and gl.DocDate between @from_date and @to_date\n",
    "      )) tb\n",
    "    group by\n",
    "      -- tb.branch_code, -- branch\n",
    "      -- tb.category_code, -- category\n",
    "      -- tb.customer_id, -- customer\n",
    "      tb.account_code\n",
    "  ) tb\n",
    "  where \n",
    "    tb.open_debit_amount <> 0\n",
    "    or tb.open_credit_amount <> 0\n",
    "    or tb.incurred_debit_amount <> 0\n",
    "    or tb.incurred_credit_amount <> 0\n",
    "    or tb.close_debit_amount <> 0\n",
    "    or tb.close_credit_amount <> 0\n",
    ") tb\n",
    "group by\n",
    "  -- tb.branch_code, -- branch\n",
    "  -- tb.category_code, -- category\n",
    "  -- tb.customer_id, -- customer\n",
    "  tb.account_code\n",
    "\"\"\"\n",
    "df_fact_trial_balance = dx.ms.read_mssql(uri=shared.env.bravo_uri, query=query_fact_trial_balance, params={\n",
    "  \"from_date\": from_date,\n",
    "  \"to_date\": to_date,\n",
    "})"
   ]
  },
  {
   "cell_type": "code",
   "execution_count": null,
   "id": "5918820b",
   "metadata": {
    "tags": [
     "ignore"
    ]
   },
   "outputs": [],
   "source": [
    "# view\n",
    "df_fact_trial_balance.head(1)"
   ]
  },
  {
   "cell_type": "code",
   "execution_count": null,
   "id": "7079a0c5",
   "metadata": {
    "tags": [
     "ignore"
    ]
   },
   "outputs": [],
   "source": [
    "# save\n",
    "dx.df.write_data_file(df=df_fact_trial_balance, data_file=output_file_default())"
   ]
  }
 ],
 "metadata": {
  "kernelspec": {
   "display_name": "Python 3",
   "language": "python",
   "name": "python3"
  },
  "language_info": {
   "codemirror_mode": {
    "name": "ipython",
    "version": 3
   },
   "file_extension": ".py",
   "mimetype": "text/x-python",
   "name": "python",
   "nbconvert_exporter": "python",
   "pygments_lexer": "ipython3",
   "version": "3.11.9"
  }
 },
 "nbformat": 4,
 "nbformat_minor": 5
}
